{
 "cells": [
  {
   "cell_type": "markdown",
   "metadata": {},
   "source": [
    "# 1.0 Extract movement and audio\n",
    "\n",
    "For each video we extract movement data with YOLOv8 and audio data with moviepy/ffmpeg.\n"
   ]
  },
  {
   "cell_type": "markdown",
   "metadata": {},
   "source": [
    "# 1.1 Video pose estimation with YOLOv8\n",
    "\n",
    "[YOLOv8](https://github.com/ultralytics/ultralytics) is a commercially maintained version of the YOLO object recognition model. [Yolov7](https://github.com/WongKinYiu/yolov7) introduced pose estimation and v8 improves the models and makes everything much more user-friendly. It can be installed as a package\n",
    "\n",
    "* Pip : `pip install ultralytics`\n",
    "* Conda : `conda install -c conda-forge ultralytics`\n"
   ]
  },
  {
   "cell_type": "code",
   "execution_count": 2,
   "metadata": {},
   "outputs": [],
   "source": [
    "import os\n",
    "import math\n",
    "import sys\n",
    "import time\n",
    "import pandas as pd\n",
    "import numpy as np\n",
    "import cv2\n",
    "import torch\n",
    "from ultralytics import YOLO"
   ]
  },
  {
   "cell_type": "code",
   "execution_count": 3,
   "metadata": {},
   "outputs": [
    {
     "data": {
      "text/html": [
       "<div>\n",
       "<style scoped>\n",
       "    .dataframe tbody tr th:only-of-type {\n",
       "        vertical-align: middle;\n",
       "    }\n",
       "\n",
       "    .dataframe tbody tr th {\n",
       "        vertical-align: top;\n",
       "    }\n",
       "\n",
       "    .dataframe thead th {\n",
       "        text-align: right;\n",
       "    }\n",
       "</style>\n",
       "<table border=\"1\" class=\"dataframe\">\n",
       "  <thead>\n",
       "    <tr style=\"text-align: right;\">\n",
       "      <th></th>\n",
       "      <th>Unnamed: 0</th>\n",
       "      <th>VideoID</th>\n",
       "      <th>Consent</th>\n",
       "      <th>Sharing</th>\n",
       "      <th>ParentID</th>\n",
       "      <th>ChildID</th>\n",
       "      <th>Age</th>\n",
       "      <th>Gender</th>\n",
       "      <th>PregnancyLength</th>\n",
       "      <th>Languages</th>\n",
       "      <th>...</th>\n",
       "      <th>UseOfMedia</th>\n",
       "      <th>Withdrawal</th>\n",
       "      <th>DatabraryShare</th>\n",
       "      <th>JokeType</th>\n",
       "      <th>HowFunny</th>\n",
       "      <th>LaughYesNo</th>\n",
       "      <th>JokeNum</th>\n",
       "      <th>JokeRep</th>\n",
       "      <th>JokeTake</th>\n",
       "      <th>shortname</th>\n",
       "    </tr>\n",
       "  </thead>\n",
       "  <tbody>\n",
       "    <tr>\n",
       "      <th>0</th>\n",
       "      <td>0</td>\n",
       "      <td>2UWdXP.joke1.rep2.take1.Peekaboo.mp4</td>\n",
       "      <td>accepted</td>\n",
       "      <td>public</td>\n",
       "      <td>5ZQUSU</td>\n",
       "      <td>2UWdXP</td>\n",
       "      <td>233</td>\n",
       "      <td>f</td>\n",
       "      <td>38 weeks</td>\n",
       "      <td>en</td>\n",
       "      <td>...</td>\n",
       "      <td>public</td>\n",
       "      <td>False</td>\n",
       "      <td>yes</td>\n",
       "      <td>Peekaboo</td>\n",
       "      <td>Slightly funny</td>\n",
       "      <td>No</td>\n",
       "      <td>1</td>\n",
       "      <td>2</td>\n",
       "      <td>1</td>\n",
       "      <td>NaN</td>\n",
       "    </tr>\n",
       "    <tr>\n",
       "      <th>1</th>\n",
       "      <td>1</td>\n",
       "      <td>2UWdXP.joke1.rep3.take1.Peekaboo.mp4</td>\n",
       "      <td>accepted</td>\n",
       "      <td>public</td>\n",
       "      <td>5ZQUSU</td>\n",
       "      <td>2UWdXP</td>\n",
       "      <td>233</td>\n",
       "      <td>f</td>\n",
       "      <td>38 weeks</td>\n",
       "      <td>en</td>\n",
       "      <td>...</td>\n",
       "      <td>public</td>\n",
       "      <td>False</td>\n",
       "      <td>yes</td>\n",
       "      <td>Peekaboo</td>\n",
       "      <td>Slightly funny</td>\n",
       "      <td>No</td>\n",
       "      <td>1</td>\n",
       "      <td>3</td>\n",
       "      <td>1</td>\n",
       "      <td>NaN</td>\n",
       "    </tr>\n",
       "    <tr>\n",
       "      <th>2</th>\n",
       "      <td>2</td>\n",
       "      <td>2UWdXP.joke2.rep1.take1.NomNomNom.mp4</td>\n",
       "      <td>accepted</td>\n",
       "      <td>public</td>\n",
       "      <td>5ZQUSU</td>\n",
       "      <td>2UWdXP</td>\n",
       "      <td>233</td>\n",
       "      <td>f</td>\n",
       "      <td>38 weeks</td>\n",
       "      <td>en</td>\n",
       "      <td>...</td>\n",
       "      <td>public</td>\n",
       "      <td>False</td>\n",
       "      <td>yes</td>\n",
       "      <td>NomNomNom</td>\n",
       "      <td>Funny</td>\n",
       "      <td>No</td>\n",
       "      <td>2</td>\n",
       "      <td>1</td>\n",
       "      <td>1</td>\n",
       "      <td>NaN</td>\n",
       "    </tr>\n",
       "    <tr>\n",
       "      <th>3</th>\n",
       "      <td>3</td>\n",
       "      <td>2UWdXP.joke2.rep2.take1.NomNomNom.mp4</td>\n",
       "      <td>accepted</td>\n",
       "      <td>public</td>\n",
       "      <td>5ZQUSU</td>\n",
       "      <td>2UWdXP</td>\n",
       "      <td>233</td>\n",
       "      <td>f</td>\n",
       "      <td>38 weeks</td>\n",
       "      <td>en</td>\n",
       "      <td>...</td>\n",
       "      <td>public</td>\n",
       "      <td>False</td>\n",
       "      <td>yes</td>\n",
       "      <td>NomNomNom</td>\n",
       "      <td>Slightly funny</td>\n",
       "      <td>No</td>\n",
       "      <td>2</td>\n",
       "      <td>2</td>\n",
       "      <td>1</td>\n",
       "      <td>NaN</td>\n",
       "    </tr>\n",
       "    <tr>\n",
       "      <th>4</th>\n",
       "      <td>4</td>\n",
       "      <td>2UWdXP.joke2.rep3.take1.NomNomNom.mp4</td>\n",
       "      <td>accepted</td>\n",
       "      <td>public</td>\n",
       "      <td>5ZQUSU</td>\n",
       "      <td>2UWdXP</td>\n",
       "      <td>233</td>\n",
       "      <td>f</td>\n",
       "      <td>38 weeks</td>\n",
       "      <td>en</td>\n",
       "      <td>...</td>\n",
       "      <td>public</td>\n",
       "      <td>False</td>\n",
       "      <td>yes</td>\n",
       "      <td>NomNomNom</td>\n",
       "      <td>Slightly funny</td>\n",
       "      <td>No</td>\n",
       "      <td>2</td>\n",
       "      <td>3</td>\n",
       "      <td>1</td>\n",
       "      <td>NaN</td>\n",
       "    </tr>\n",
       "  </tbody>\n",
       "</table>\n",
       "<p>5 rows × 22 columns</p>\n",
       "</div>"
      ],
      "text/plain": [
       "   Unnamed: 0                                VideoID   Consent Sharing  \\\n",
       "0           0   2UWdXP.joke1.rep2.take1.Peekaboo.mp4  accepted  public   \n",
       "1           1   2UWdXP.joke1.rep3.take1.Peekaboo.mp4  accepted  public   \n",
       "2           2  2UWdXP.joke2.rep1.take1.NomNomNom.mp4  accepted  public   \n",
       "3           3  2UWdXP.joke2.rep2.take1.NomNomNom.mp4  accepted  public   \n",
       "4           4  2UWdXP.joke2.rep3.take1.NomNomNom.mp4  accepted  public   \n",
       "\n",
       "  ParentID ChildID  Age Gender PregnancyLength Languages  ... UseOfMedia  \\\n",
       "0   5ZQUSU  2UWdXP  233      f        38 weeks        en  ...     public   \n",
       "1   5ZQUSU  2UWdXP  233      f        38 weeks        en  ...     public   \n",
       "2   5ZQUSU  2UWdXP  233      f        38 weeks        en  ...     public   \n",
       "3   5ZQUSU  2UWdXP  233      f        38 weeks        en  ...     public   \n",
       "4   5ZQUSU  2UWdXP  233      f        38 weeks        en  ...     public   \n",
       "\n",
       "  Withdrawal DatabraryShare   JokeType        HowFunny LaughYesNo JokeNum  \\\n",
       "0      False            yes   Peekaboo  Slightly funny         No       1   \n",
       "1      False            yes   Peekaboo  Slightly funny         No       1   \n",
       "2      False            yes  NomNomNom           Funny         No       2   \n",
       "3      False            yes  NomNomNom  Slightly funny         No       2   \n",
       "4      False            yes  NomNomNom  Slightly funny         No       2   \n",
       "\n",
       "  JokeRep  JokeTake  shortname  \n",
       "0       2         1        NaN  \n",
       "1       3         1        NaN  \n",
       "2       1         1        NaN  \n",
       "3       2         1        NaN  \n",
       "4       3         1        NaN  \n",
       "\n",
       "[5 rows x 22 columns]"
      ]
     },
     "execution_count": 3,
     "metadata": {},
     "output_type": "execute_result"
    }
   ],
   "source": [
    "videos_in = \"..\\\\LookitLaughter.test\\\\\"\n",
    "videos_out = \"..\\\\data\\\\1_interim\\\\\"\n",
    "\n",
    "#get metadata from excel file\n",
    "metadata = pd.read_excel(videos_in+ \"_LookitLaughter.xlsx\")\n",
    "metadata.head()"
   ]
  },
  {
   "cell_type": "code",
   "execution_count": 32,
   "metadata": {},
   "outputs": [],
   "source": [
    "#get yolo model with pose estimation\n",
    "model = YOLO('yolov8n-pose.pt')"
   ]
  },
  {
   "cell_type": "code",
   "execution_count": 9,
   "metadata": {},
   "outputs": [],
   "source": [
    "#helper functions\n",
    "import torch\n",
    "import pandas as pd\n",
    "\n",
    "def getprocessedvideos(videos_out):\n",
    "    #check if we have already processed some videos\n",
    "    if os.path.exists(videos_out + \"\\\\processedvideos.xlsx\"):\n",
    "        print(\"found existing processedvideos.xlsx\")\n",
    "        processedvideos = pd.read_excel(videos_out + \"\\\\processedvideos.xlsx\")\n",
    "    else:\n",
    "        #create new dataframe for info about processed videos\n",
    "        print(\"creating new processedvideos.xlsx\")\n",
    "        cols = [\"VideoID\",\"ChildID\", \"JokeType\",\"JokeNum\",\"JokeRep\",\"JokeTake\", \"HowFunny\",\"LaughYesNo\", \"Frames\", \"FPS\", \"Width\", \"Height\", \"Duration\",\"Keypoints.when\", \"Keypoints.file\",\"Audio.when\",\"Audio.file\",\"Faces.when\",\"Faces.file\",\"Speech.when\",\"Speech.file\",\"LastError\"]\n",
    "        processedvideos = pd.DataFrame(columns=cols)\n",
    "    return processedvideos\n",
    "\n",
    "def createkeypointsdf():\n",
    "    #create empty dataframe to store keypoints, one per person per frame\n",
    "    bodyparts = ['nose', 'left_eye', 'right_eye', 'left_ear', 'right_ear', 'left_shoulder', 'right_shoulder', 'left_elbow', 'right_elbow', 'left_wrist', 'right_wrist', 'left_hip', 'right_hip', 'left_knee', 'right_knee', 'left_ankle', 'right_ankle']\n",
    "    coords = ['x', 'y']\n",
    "    conf = ['c']\n",
    "    bodypartsxy = [f\"{bp}.{c}\" for bp in bodyparts for c in coords]\n",
    "    bodypartsc = [f\"{bp}.{c}\" for bp in bodyparts for c in conf]\n",
    "    boundingbox = [ 'bboxcent.x', 'bboxcent.y', 'bbox.width', 'bbox.height', 'bbox.c' ]\n",
    "    cols = ['frame', 'person'] + boundingbox + bodypartsxy + bodypartsc\n",
    "    df = pd.DataFrame(columns=cols)\n",
    "    return df\n",
    "\n",
    "def addkeypointstodf(df, framenumber, bbox,bconf, keypoints, kconf):\n",
    "    for idx in range(len(bbox)):\n",
    "        row = [framenumber, idx]\n",
    "        row += torch.flatten(bbox[idx]).tolist()\n",
    "        row += torch.flatten(bconf[idx]).tolist()\n",
    "        row += torch.flatten(keypoints[idx]).tolist()\n",
    "        row += torch.flatten(kconf[idx]).tolist()\n",
    "        #add row to dataframe\n",
    "        #print(row)\n",
    "        df.loc[len(df)] = row\n",
    "    return df\n",
    "\n",
    "def videotokeypoints(videopath):\n",
    "    # Run inference on the source\n",
    "    results = model(videopath, stream=True)  # generator of Results objects\n",
    "    df = createkeypointsdf()\n",
    "\n",
    "    frame = 0\n",
    "    for r in results:\n",
    "        #print(torch.flatten(r.keypoints.xy[0]).tolist())\n",
    "        df = addkeypointstodf(df,frame,r.boxes.xywh,r.boxes.conf,r.keypoints.xy, r.keypoints.conf)  \n",
    "        frame += 1\n",
    "\n",
    "    return df\n"
   ]
  },
  {
   "cell_type": "code",
   "execution_count": 10,
   "metadata": {},
   "outputs": [
    {
     "name": "stdout",
     "output_type": "stream",
     "text": [
      "found existing processedvideos.xlsx\n"
     ]
    },
    {
     "data": {
      "text/html": [
       "<div>\n",
       "<style scoped>\n",
       "    .dataframe tbody tr th:only-of-type {\n",
       "        vertical-align: middle;\n",
       "    }\n",
       "\n",
       "    .dataframe tbody tr th {\n",
       "        vertical-align: top;\n",
       "    }\n",
       "\n",
       "    .dataframe thead th {\n",
       "        text-align: right;\n",
       "    }\n",
       "</style>\n",
       "<table border=\"1\" class=\"dataframe\">\n",
       "  <thead>\n",
       "    <tr style=\"text-align: right;\">\n",
       "      <th></th>\n",
       "      <th>Unnamed: 0.1</th>\n",
       "      <th>Unnamed: 0</th>\n",
       "      <th>VideoID</th>\n",
       "      <th>ChildID</th>\n",
       "      <th>JokeType</th>\n",
       "      <th>JokeNum</th>\n",
       "      <th>JokeRep</th>\n",
       "      <th>JokeTake</th>\n",
       "      <th>HowFunny</th>\n",
       "      <th>LaughYesNo</th>\n",
       "      <th>...</th>\n",
       "      <th>Duration</th>\n",
       "      <th>Keypoints.when</th>\n",
       "      <th>Keypoints.file</th>\n",
       "      <th>Audio.when</th>\n",
       "      <th>Audio.file</th>\n",
       "      <th>Cleaned.when</th>\n",
       "      <th>Cleaned.file</th>\n",
       "      <th>LastError</th>\n",
       "      <th>Speech.file</th>\n",
       "      <th>Speech.when</th>\n",
       "    </tr>\n",
       "  </thead>\n",
       "  <tbody>\n",
       "    <tr>\n",
       "      <th>0</th>\n",
       "      <td>0</td>\n",
       "      <td>0</td>\n",
       "      <td>2UWdXP.joke1.rep2.take1.Peekaboo.mp4</td>\n",
       "      <td>2UWdXP</td>\n",
       "      <td>Peekaboo</td>\n",
       "      <td>1</td>\n",
       "      <td>2</td>\n",
       "      <td>1</td>\n",
       "      <td>Slightly funny</td>\n",
       "      <td>No</td>\n",
       "      <td>...</td>\n",
       "      <td>15.175982</td>\n",
       "      <td>2023-09-19 11:39:38</td>\n",
       "      <td>..\\data\\1_interim\\\\2UWdXP.joke1.rep2.take1.Pee...</td>\n",
       "      <td>2023-09-19 12:31:14</td>\n",
       "      <td>..\\data\\1_interim\\\\2UWdXP.joke1.rep2.take1.Pee...</td>\n",
       "      <td>NaN</td>\n",
       "      <td>NaN</td>\n",
       "      <td>NaN</td>\n",
       "      <td>..\\data\\1_interim\\2UWdXP.joke1.rep2.take1.Peek...</td>\n",
       "      <td>2023-09-20 16:58:38</td>\n",
       "    </tr>\n",
       "    <tr>\n",
       "      <th>1</th>\n",
       "      <td>1</td>\n",
       "      <td>1</td>\n",
       "      <td>2UWdXP.joke1.rep3.take1.Peekaboo.mp4</td>\n",
       "      <td>2UWdXP</td>\n",
       "      <td>Peekaboo</td>\n",
       "      <td>1</td>\n",
       "      <td>3</td>\n",
       "      <td>1</td>\n",
       "      <td>Slightly funny</td>\n",
       "      <td>No</td>\n",
       "      <td>...</td>\n",
       "      <td>10.585630</td>\n",
       "      <td>2023-09-19 11:40:12</td>\n",
       "      <td>..\\data\\1_interim\\\\2UWdXP.joke1.rep3.take1.Pee...</td>\n",
       "      <td>2023-09-19 12:31:15</td>\n",
       "      <td>..\\data\\1_interim\\\\2UWdXP.joke1.rep3.take1.Pee...</td>\n",
       "      <td>NaN</td>\n",
       "      <td>NaN</td>\n",
       "      <td>NaN</td>\n",
       "      <td>..\\data\\1_interim\\2UWdXP.joke1.rep3.take1.Peek...</td>\n",
       "      <td>2023-09-20 16:58:39</td>\n",
       "    </tr>\n",
       "    <tr>\n",
       "      <th>2</th>\n",
       "      <td>2</td>\n",
       "      <td>2</td>\n",
       "      <td>2UWdXP.joke2.rep1.take1.NomNomNom.mp4</td>\n",
       "      <td>2UWdXP</td>\n",
       "      <td>NomNomNom</td>\n",
       "      <td>2</td>\n",
       "      <td>1</td>\n",
       "      <td>1</td>\n",
       "      <td>Funny</td>\n",
       "      <td>No</td>\n",
       "      <td>...</td>\n",
       "      <td>7.174514</td>\n",
       "      <td>2023-09-19 11:40:36</td>\n",
       "      <td>..\\data\\1_interim\\\\2UWdXP.joke2.rep1.take1.Nom...</td>\n",
       "      <td>2023-09-19 12:31:16</td>\n",
       "      <td>..\\data\\1_interim\\\\2UWdXP.joke2.rep1.take1.Nom...</td>\n",
       "      <td>NaN</td>\n",
       "      <td>NaN</td>\n",
       "      <td>NaN</td>\n",
       "      <td>..\\data\\1_interim\\2UWdXP.joke2.rep1.take1.NomN...</td>\n",
       "      <td>2023-09-20 16:58:40</td>\n",
       "    </tr>\n",
       "    <tr>\n",
       "      <th>3</th>\n",
       "      <td>3</td>\n",
       "      <td>3</td>\n",
       "      <td>2UWdXP.joke2.rep2.take1.NomNomNom.mp4</td>\n",
       "      <td>2UWdXP</td>\n",
       "      <td>NomNomNom</td>\n",
       "      <td>2</td>\n",
       "      <td>2</td>\n",
       "      <td>1</td>\n",
       "      <td>Slightly funny</td>\n",
       "      <td>No</td>\n",
       "      <td>...</td>\n",
       "      <td>6.824348</td>\n",
       "      <td>2023-09-19 11:41:00</td>\n",
       "      <td>..\\data\\1_interim\\\\2UWdXP.joke2.rep2.take1.Nom...</td>\n",
       "      <td>2023-09-19 12:31:16</td>\n",
       "      <td>..\\data\\1_interim\\\\2UWdXP.joke2.rep2.take1.Nom...</td>\n",
       "      <td>NaN</td>\n",
       "      <td>NaN</td>\n",
       "      <td>NaN</td>\n",
       "      <td>..\\data\\1_interim\\2UWdXP.joke2.rep2.take1.NomN...</td>\n",
       "      <td>2023-09-20 16:58:40</td>\n",
       "    </tr>\n",
       "    <tr>\n",
       "      <th>4</th>\n",
       "      <td>4</td>\n",
       "      <td>4</td>\n",
       "      <td>2UWdXP.joke2.rep3.take1.NomNomNom.mp4</td>\n",
       "      <td>2UWdXP</td>\n",
       "      <td>NomNomNom</td>\n",
       "      <td>2</td>\n",
       "      <td>3</td>\n",
       "      <td>1</td>\n",
       "      <td>Slightly funny</td>\n",
       "      <td>No</td>\n",
       "      <td>...</td>\n",
       "      <td>9.350991</td>\n",
       "      <td>2023-09-19 11:41:34</td>\n",
       "      <td>..\\data\\1_interim\\\\2UWdXP.joke2.rep3.take1.Nom...</td>\n",
       "      <td>2023-09-19 12:31:17</td>\n",
       "      <td>..\\data\\1_interim\\\\2UWdXP.joke2.rep3.take1.Nom...</td>\n",
       "      <td>NaN</td>\n",
       "      <td>NaN</td>\n",
       "      <td>NaN</td>\n",
       "      <td>..\\data\\1_interim\\2UWdXP.joke2.rep3.take1.NomN...</td>\n",
       "      <td>2023-09-20 16:58:48</td>\n",
       "    </tr>\n",
       "  </tbody>\n",
       "</table>\n",
       "<p>5 rows × 24 columns</p>\n",
       "</div>"
      ],
      "text/plain": [
       "   Unnamed: 0.1  Unnamed: 0                                VideoID ChildID  \\\n",
       "0             0           0   2UWdXP.joke1.rep2.take1.Peekaboo.mp4  2UWdXP   \n",
       "1             1           1   2UWdXP.joke1.rep3.take1.Peekaboo.mp4  2UWdXP   \n",
       "2             2           2  2UWdXP.joke2.rep1.take1.NomNomNom.mp4  2UWdXP   \n",
       "3             3           3  2UWdXP.joke2.rep2.take1.NomNomNom.mp4  2UWdXP   \n",
       "4             4           4  2UWdXP.joke2.rep3.take1.NomNomNom.mp4  2UWdXP   \n",
       "\n",
       "    JokeType  JokeNum  JokeRep  JokeTake        HowFunny LaughYesNo  ...  \\\n",
       "0   Peekaboo        1        2         1  Slightly funny         No  ...   \n",
       "1   Peekaboo        1        3         1  Slightly funny         No  ...   \n",
       "2  NomNomNom        2        1         1           Funny         No  ...   \n",
       "3  NomNomNom        2        2         1  Slightly funny         No  ...   \n",
       "4  NomNomNom        2        3         1  Slightly funny         No  ...   \n",
       "\n",
       "    Duration       Keypoints.when  \\\n",
       "0  15.175982  2023-09-19 11:39:38   \n",
       "1  10.585630  2023-09-19 11:40:12   \n",
       "2   7.174514  2023-09-19 11:40:36   \n",
       "3   6.824348  2023-09-19 11:41:00   \n",
       "4   9.350991  2023-09-19 11:41:34   \n",
       "\n",
       "                                      Keypoints.file           Audio.when  \\\n",
       "0  ..\\data\\1_interim\\\\2UWdXP.joke1.rep2.take1.Pee...  2023-09-19 12:31:14   \n",
       "1  ..\\data\\1_interim\\\\2UWdXP.joke1.rep3.take1.Pee...  2023-09-19 12:31:15   \n",
       "2  ..\\data\\1_interim\\\\2UWdXP.joke2.rep1.take1.Nom...  2023-09-19 12:31:16   \n",
       "3  ..\\data\\1_interim\\\\2UWdXP.joke2.rep2.take1.Nom...  2023-09-19 12:31:16   \n",
       "4  ..\\data\\1_interim\\\\2UWdXP.joke2.rep3.take1.Nom...  2023-09-19 12:31:17   \n",
       "\n",
       "                                          Audio.file Cleaned.when  \\\n",
       "0  ..\\data\\1_interim\\\\2UWdXP.joke1.rep2.take1.Pee...          NaN   \n",
       "1  ..\\data\\1_interim\\\\2UWdXP.joke1.rep3.take1.Pee...          NaN   \n",
       "2  ..\\data\\1_interim\\\\2UWdXP.joke2.rep1.take1.Nom...          NaN   \n",
       "3  ..\\data\\1_interim\\\\2UWdXP.joke2.rep2.take1.Nom...          NaN   \n",
       "4  ..\\data\\1_interim\\\\2UWdXP.joke2.rep3.take1.Nom...          NaN   \n",
       "\n",
       "  Cleaned.file LastError                                        Speech.file  \\\n",
       "0          NaN       NaN  ..\\data\\1_interim\\2UWdXP.joke1.rep2.take1.Peek...   \n",
       "1          NaN       NaN  ..\\data\\1_interim\\2UWdXP.joke1.rep3.take1.Peek...   \n",
       "2          NaN       NaN  ..\\data\\1_interim\\2UWdXP.joke2.rep1.take1.NomN...   \n",
       "3          NaN       NaN  ..\\data\\1_interim\\2UWdXP.joke2.rep2.take1.NomN...   \n",
       "4          NaN       NaN  ..\\data\\1_interim\\2UWdXP.joke2.rep3.take1.NomN...   \n",
       "\n",
       "           Speech.when  \n",
       "0  2023-09-20 16:58:38  \n",
       "1  2023-09-20 16:58:39  \n",
       "2  2023-09-20 16:58:40  \n",
       "3  2023-09-20 16:58:40  \n",
       "4  2023-09-20 16:58:48  \n",
       "\n",
       "[5 rows x 24 columns]"
      ]
     },
     "execution_count": 10,
     "metadata": {},
     "output_type": "execute_result"
    }
   ],
   "source": [
    "processedvideos = getprocessedvideos(videos_out)\n",
    "processedvideos.head()"
   ]
  },
  {
   "cell_type": "code",
   "execution_count": null,
   "metadata": {},
   "outputs": [],
   "source": [
    "#loop through each row of metadata and\n",
    "#process all related videos\n",
    "forcemetadata = False\n",
    "forceprocess = False\n",
    "\n",
    "for index, mrow in metadata.iterrows():\n",
    "    #get VIDEOID from first column of metadata\n",
    "    videoname = mrow[\"VideoID\"]\n",
    "    stemname = os.path.splitext(videoname)[0]\n",
    "    print(f\"video:{videoname}\")\n",
    "\n",
    "    #check we want to refill metadata or this video is not already in processedvideos dataframe\n",
    "    if forcemetadata or videoname not in processedvideos[\"VideoID\"].values: \n",
    "        #use cv2 to get fps and other video info to add to dataframe\n",
    "        cap = cv2.VideoCapture(videos_in + videoname)    \n",
    "        if (cap.isOpened()== False):\n",
    "            print(\"Error opening video stream or file\")\n",
    "            continue\n",
    "        else:\n",
    "            #add row to processedvideos dataframe\n",
    "            row = {\"VideoID\":videoname,\n",
    "                \"ChildID\":mrow[\"ChildID\"],\n",
    "                \"JokeType\":mrow[\"JokeType\"],\n",
    "                \"JokeNum\":mrow[\"JokeNum\"],\n",
    "                \"JokeRep\":mrow[\"JokeRep\"],\n",
    "                \"JokeTake\":mrow[\"JokeTake\"],\n",
    "                \"HowFunny\":mrow[\"HowFunny\"],\n",
    "                \"LaughYesNo\":mrow[\"LaughYesNo\"],\n",
    "                \"Frames\":cap.get(cv2.CAP_PROP_FRAME_COUNT),\n",
    "                \"FPS\":cap.get(cv2.CAP_PROP_FPS) , \n",
    "                \"Width\":cap.get(cv2.CAP_PROP_FRAME_WIDTH), \n",
    "                \"Height\":cap.get(cv2.CAP_PROP_FRAME_HEIGHT), \n",
    "                \"Duration\":cap.get(cv2.CAP_PROP_FRAME_COUNT)/cap.get(cv2.CAP_PROP_FPS)\n",
    "                }\n",
    "            cap.release()\n",
    "            print(f\"Adding video info: {row}\")\n",
    "            newrow = pd.DataFrame(row, index=[0])\n",
    "            processedvideos = pd.concat([processedvideos,newrow], ignore_index=True)\n",
    "\n",
    "    #select the dataframe row for this video \n",
    "    row = processedvideos.loc[processedvideos[\"VideoID\"] == videoname]\n",
    "    #check if we have already processed this video is keypoints is not nan\n",
    "    if row.empty:\n",
    "        print(f\"error: no row for {videoname}\")\n",
    "        continue\n",
    "    elif not forceprocess and not pd.isnull(row[\"Keypoints.file\"].values[0]):\n",
    "        print(row[\"Keypoints.file\"].values[0]  )\n",
    "        print(f\"already processed {videoname}\")\n",
    "        continue\n",
    "    else:\n",
    "        #use ultralytics YOLO to get keypoints\n",
    "        keypointsdf =videotokeypoints(videos_in + videoname)\n",
    "        #save keypointsdf as csv    \n",
    "        keypointspath = videos_out + \"\\\\\" + stemname + \".csv\"\n",
    "        keypointsdf.to_csv(keypointspath)\n",
    "        row[\"Keypoints.file\"] = keypointspath\n",
    "        row[\"Keypoints.when\"] = time.strftime(\"%Y-%m-%d %H:%M:%S\", time.gmtime())\n",
    "        #update this row in processedvideos dataframe\n",
    "        processedvideos.loc[processedvideos[\"VideoID\"] == videoname] = row\n",
    "    \n",
    "\n",
    "    #update processedvideos excel file\n",
    "    processedvideos.to_excel(videos_out + \"\\\\processedvideos.xlsx\", index=False)"
   ]
  },
  {
   "cell_type": "markdown",
   "metadata": {},
   "source": [
    "# 1.2 Audio extraction with moviepy\n",
    "\n",
    "This step is a lot simpler. We extract the audio from each video and save it as `mp3`. We will use the `moviepy` library to do this. \n",
    "This will be helpful for later analysis and regenerating labeled videos with audio.\n",
    "\n",
    "Note that `moviepy` is a wrapper around `ffmpeg` and `ffmpeg` needs to be installed separately. \n",
    "\n",
    "`conda install ffmpeg moviepy`"
   ]
  },
  {
   "cell_type": "code",
   "execution_count": 4,
   "metadata": {},
   "outputs": [],
   "source": [
    "from moviepy.editor import VideoFileClip"
   ]
  },
  {
   "cell_type": "code",
   "execution_count": 11,
   "metadata": {},
   "outputs": [],
   "source": [
    "def convert_video_to_audio_moviepy(videos_in, video_file, out_path, output_ext=\"mp3\"):\n",
    "    \"\"\"Converts video to audio using MoviePy library\n",
    "    that uses `ffmpeg` under the hood\"\"\"\n",
    "    try:\n",
    "        filename = os.path.splitext(video_file)[0]\n",
    "        clip = VideoFileClip(videos_in + video_file)\n",
    "        audio_file = f\"{out_path}\\\\{filename}.{output_ext}\"\n",
    "        clip.audio.write_audiofile(audio_file)\n",
    "        clip.close()\n",
    "        return audio_file\n",
    "    except Exception as e:\n",
    "        print(f\"Error converting {video_file} to {output_ext}: {e}\")\n",
    "        return None"
   ]
  },
  {
   "cell_type": "code",
   "execution_count": 12,
   "metadata": {},
   "outputs": [
    {
     "name": "stdout",
     "output_type": "stream",
     "text": [
      "found existing processedvideos.xlsx\n"
     ]
    },
    {
     "data": {
      "text/html": [
       "<div>\n",
       "<style scoped>\n",
       "    .dataframe tbody tr th:only-of-type {\n",
       "        vertical-align: middle;\n",
       "    }\n",
       "\n",
       "    .dataframe tbody tr th {\n",
       "        vertical-align: top;\n",
       "    }\n",
       "\n",
       "    .dataframe thead th {\n",
       "        text-align: right;\n",
       "    }\n",
       "</style>\n",
       "<table border=\"1\" class=\"dataframe\">\n",
       "  <thead>\n",
       "    <tr style=\"text-align: right;\">\n",
       "      <th></th>\n",
       "      <th>Unnamed: 0.1</th>\n",
       "      <th>Unnamed: 0</th>\n",
       "      <th>VideoID</th>\n",
       "      <th>ChildID</th>\n",
       "      <th>JokeType</th>\n",
       "      <th>JokeNum</th>\n",
       "      <th>JokeRep</th>\n",
       "      <th>JokeTake</th>\n",
       "      <th>HowFunny</th>\n",
       "      <th>LaughYesNo</th>\n",
       "      <th>...</th>\n",
       "      <th>Duration</th>\n",
       "      <th>Keypoints.when</th>\n",
       "      <th>Keypoints.file</th>\n",
       "      <th>Audio.when</th>\n",
       "      <th>Audio.file</th>\n",
       "      <th>Cleaned.when</th>\n",
       "      <th>Cleaned.file</th>\n",
       "      <th>LastError</th>\n",
       "      <th>Speech.file</th>\n",
       "      <th>Speech.when</th>\n",
       "    </tr>\n",
       "  </thead>\n",
       "  <tbody>\n",
       "    <tr>\n",
       "      <th>0</th>\n",
       "      <td>0</td>\n",
       "      <td>0</td>\n",
       "      <td>2UWdXP.joke1.rep2.take1.Peekaboo.mp4</td>\n",
       "      <td>2UWdXP</td>\n",
       "      <td>Peekaboo</td>\n",
       "      <td>1</td>\n",
       "      <td>2</td>\n",
       "      <td>1</td>\n",
       "      <td>Slightly funny</td>\n",
       "      <td>No</td>\n",
       "      <td>...</td>\n",
       "      <td>15.175982</td>\n",
       "      <td>2023-09-19 11:39:38</td>\n",
       "      <td>..\\data\\1_interim\\\\2UWdXP.joke1.rep2.take1.Pee...</td>\n",
       "      <td>2023-09-19 12:31:14</td>\n",
       "      <td>..\\data\\1_interim\\\\2UWdXP.joke1.rep2.take1.Pee...</td>\n",
       "      <td>NaN</td>\n",
       "      <td>NaN</td>\n",
       "      <td>NaN</td>\n",
       "      <td>..\\data\\1_interim\\2UWdXP.joke1.rep2.take1.Peek...</td>\n",
       "      <td>2023-09-20 16:58:38</td>\n",
       "    </tr>\n",
       "    <tr>\n",
       "      <th>1</th>\n",
       "      <td>1</td>\n",
       "      <td>1</td>\n",
       "      <td>2UWdXP.joke1.rep3.take1.Peekaboo.mp4</td>\n",
       "      <td>2UWdXP</td>\n",
       "      <td>Peekaboo</td>\n",
       "      <td>1</td>\n",
       "      <td>3</td>\n",
       "      <td>1</td>\n",
       "      <td>Slightly funny</td>\n",
       "      <td>No</td>\n",
       "      <td>...</td>\n",
       "      <td>10.585630</td>\n",
       "      <td>2023-09-19 11:40:12</td>\n",
       "      <td>..\\data\\1_interim\\\\2UWdXP.joke1.rep3.take1.Pee...</td>\n",
       "      <td>2023-09-19 12:31:15</td>\n",
       "      <td>..\\data\\1_interim\\\\2UWdXP.joke1.rep3.take1.Pee...</td>\n",
       "      <td>NaN</td>\n",
       "      <td>NaN</td>\n",
       "      <td>NaN</td>\n",
       "      <td>..\\data\\1_interim\\2UWdXP.joke1.rep3.take1.Peek...</td>\n",
       "      <td>2023-09-20 16:58:39</td>\n",
       "    </tr>\n",
       "    <tr>\n",
       "      <th>2</th>\n",
       "      <td>2</td>\n",
       "      <td>2</td>\n",
       "      <td>2UWdXP.joke2.rep1.take1.NomNomNom.mp4</td>\n",
       "      <td>2UWdXP</td>\n",
       "      <td>NomNomNom</td>\n",
       "      <td>2</td>\n",
       "      <td>1</td>\n",
       "      <td>1</td>\n",
       "      <td>Funny</td>\n",
       "      <td>No</td>\n",
       "      <td>...</td>\n",
       "      <td>7.174514</td>\n",
       "      <td>2023-09-19 11:40:36</td>\n",
       "      <td>..\\data\\1_interim\\\\2UWdXP.joke2.rep1.take1.Nom...</td>\n",
       "      <td>2023-09-19 12:31:16</td>\n",
       "      <td>..\\data\\1_interim\\\\2UWdXP.joke2.rep1.take1.Nom...</td>\n",
       "      <td>NaN</td>\n",
       "      <td>NaN</td>\n",
       "      <td>NaN</td>\n",
       "      <td>..\\data\\1_interim\\2UWdXP.joke2.rep1.take1.NomN...</td>\n",
       "      <td>2023-09-20 16:58:40</td>\n",
       "    </tr>\n",
       "    <tr>\n",
       "      <th>3</th>\n",
       "      <td>3</td>\n",
       "      <td>3</td>\n",
       "      <td>2UWdXP.joke2.rep2.take1.NomNomNom.mp4</td>\n",
       "      <td>2UWdXP</td>\n",
       "      <td>NomNomNom</td>\n",
       "      <td>2</td>\n",
       "      <td>2</td>\n",
       "      <td>1</td>\n",
       "      <td>Slightly funny</td>\n",
       "      <td>No</td>\n",
       "      <td>...</td>\n",
       "      <td>6.824348</td>\n",
       "      <td>2023-09-19 11:41:00</td>\n",
       "      <td>..\\data\\1_interim\\\\2UWdXP.joke2.rep2.take1.Nom...</td>\n",
       "      <td>2023-09-19 12:31:16</td>\n",
       "      <td>..\\data\\1_interim\\\\2UWdXP.joke2.rep2.take1.Nom...</td>\n",
       "      <td>NaN</td>\n",
       "      <td>NaN</td>\n",
       "      <td>NaN</td>\n",
       "      <td>..\\data\\1_interim\\2UWdXP.joke2.rep2.take1.NomN...</td>\n",
       "      <td>2023-09-20 16:58:40</td>\n",
       "    </tr>\n",
       "    <tr>\n",
       "      <th>4</th>\n",
       "      <td>4</td>\n",
       "      <td>4</td>\n",
       "      <td>2UWdXP.joke2.rep3.take1.NomNomNom.mp4</td>\n",
       "      <td>2UWdXP</td>\n",
       "      <td>NomNomNom</td>\n",
       "      <td>2</td>\n",
       "      <td>3</td>\n",
       "      <td>1</td>\n",
       "      <td>Slightly funny</td>\n",
       "      <td>No</td>\n",
       "      <td>...</td>\n",
       "      <td>9.350991</td>\n",
       "      <td>2023-09-19 11:41:34</td>\n",
       "      <td>..\\data\\1_interim\\\\2UWdXP.joke2.rep3.take1.Nom...</td>\n",
       "      <td>2023-09-19 12:31:17</td>\n",
       "      <td>..\\data\\1_interim\\\\2UWdXP.joke2.rep3.take1.Nom...</td>\n",
       "      <td>NaN</td>\n",
       "      <td>NaN</td>\n",
       "      <td>NaN</td>\n",
       "      <td>..\\data\\1_interim\\2UWdXP.joke2.rep3.take1.NomN...</td>\n",
       "      <td>2023-09-20 16:58:48</td>\n",
       "    </tr>\n",
       "  </tbody>\n",
       "</table>\n",
       "<p>5 rows × 24 columns</p>\n",
       "</div>"
      ],
      "text/plain": [
       "   Unnamed: 0.1  Unnamed: 0                                VideoID ChildID  \\\n",
       "0             0           0   2UWdXP.joke1.rep2.take1.Peekaboo.mp4  2UWdXP   \n",
       "1             1           1   2UWdXP.joke1.rep3.take1.Peekaboo.mp4  2UWdXP   \n",
       "2             2           2  2UWdXP.joke2.rep1.take1.NomNomNom.mp4  2UWdXP   \n",
       "3             3           3  2UWdXP.joke2.rep2.take1.NomNomNom.mp4  2UWdXP   \n",
       "4             4           4  2UWdXP.joke2.rep3.take1.NomNomNom.mp4  2UWdXP   \n",
       "\n",
       "    JokeType  JokeNum  JokeRep  JokeTake        HowFunny LaughYesNo  ...  \\\n",
       "0   Peekaboo        1        2         1  Slightly funny         No  ...   \n",
       "1   Peekaboo        1        3         1  Slightly funny         No  ...   \n",
       "2  NomNomNom        2        1         1           Funny         No  ...   \n",
       "3  NomNomNom        2        2         1  Slightly funny         No  ...   \n",
       "4  NomNomNom        2        3         1  Slightly funny         No  ...   \n",
       "\n",
       "    Duration       Keypoints.when  \\\n",
       "0  15.175982  2023-09-19 11:39:38   \n",
       "1  10.585630  2023-09-19 11:40:12   \n",
       "2   7.174514  2023-09-19 11:40:36   \n",
       "3   6.824348  2023-09-19 11:41:00   \n",
       "4   9.350991  2023-09-19 11:41:34   \n",
       "\n",
       "                                      Keypoints.file           Audio.when  \\\n",
       "0  ..\\data\\1_interim\\\\2UWdXP.joke1.rep2.take1.Pee...  2023-09-19 12:31:14   \n",
       "1  ..\\data\\1_interim\\\\2UWdXP.joke1.rep3.take1.Pee...  2023-09-19 12:31:15   \n",
       "2  ..\\data\\1_interim\\\\2UWdXP.joke2.rep1.take1.Nom...  2023-09-19 12:31:16   \n",
       "3  ..\\data\\1_interim\\\\2UWdXP.joke2.rep2.take1.Nom...  2023-09-19 12:31:16   \n",
       "4  ..\\data\\1_interim\\\\2UWdXP.joke2.rep3.take1.Nom...  2023-09-19 12:31:17   \n",
       "\n",
       "                                          Audio.file Cleaned.when  \\\n",
       "0  ..\\data\\1_interim\\\\2UWdXP.joke1.rep2.take1.Pee...          NaN   \n",
       "1  ..\\data\\1_interim\\\\2UWdXP.joke1.rep3.take1.Pee...          NaN   \n",
       "2  ..\\data\\1_interim\\\\2UWdXP.joke2.rep1.take1.Nom...          NaN   \n",
       "3  ..\\data\\1_interim\\\\2UWdXP.joke2.rep2.take1.Nom...          NaN   \n",
       "4  ..\\data\\1_interim\\\\2UWdXP.joke2.rep3.take1.Nom...          NaN   \n",
       "\n",
       "  Cleaned.file LastError                                        Speech.file  \\\n",
       "0          NaN       NaN  ..\\data\\1_interim\\2UWdXP.joke1.rep2.take1.Peek...   \n",
       "1          NaN       NaN  ..\\data\\1_interim\\2UWdXP.joke1.rep3.take1.Peek...   \n",
       "2          NaN       NaN  ..\\data\\1_interim\\2UWdXP.joke2.rep1.take1.NomN...   \n",
       "3          NaN       NaN  ..\\data\\1_interim\\2UWdXP.joke2.rep2.take1.NomN...   \n",
       "4          NaN       NaN  ..\\data\\1_interim\\2UWdXP.joke2.rep3.take1.NomN...   \n",
       "\n",
       "           Speech.when  \n",
       "0  2023-09-20 16:58:38  \n",
       "1  2023-09-20 16:58:39  \n",
       "2  2023-09-20 16:58:40  \n",
       "3  2023-09-20 16:58:40  \n",
       "4  2023-09-20 16:58:48  \n",
       "\n",
       "[5 rows x 24 columns]"
      ]
     },
     "execution_count": 12,
     "metadata": {},
     "output_type": "execute_result"
    }
   ],
   "source": [
    "processedvideos = getprocessedvideos(videos_out)\n",
    "processedvideos.head()"
   ]
  },
  {
   "cell_type": "code",
   "execution_count": 13,
   "metadata": {},
   "outputs": [
    {
     "name": "stdout",
     "output_type": "stream",
     "text": [
      "MoviePy - Writing audio in ..\\data\\1_interim\\\\2UWdXP.joke1.rep2.take1.Peekaboo.wav\n"
     ]
    },
    {
     "name": "stderr",
     "output_type": "stream",
     "text": [
      "                                                                    \r"
     ]
    },
    {
     "name": "stdout",
     "output_type": "stream",
     "text": [
      "MoviePy - Done.\n",
      "MoviePy - Writing audio in ..\\data\\1_interim\\\\2UWdXP.joke1.rep3.take1.Peekaboo.wav\n"
     ]
    },
    {
     "name": "stderr",
     "output_type": "stream",
     "text": [
      "                                                                  \r"
     ]
    },
    {
     "name": "stdout",
     "output_type": "stream",
     "text": [
      "MoviePy - Done.\n",
      "MoviePy - Writing audio in ..\\data\\1_interim\\\\2UWdXP.joke2.rep1.take1.NomNomNom.wav\n"
     ]
    },
    {
     "name": "stderr",
     "output_type": "stream",
     "text": [
      "                                                                  "
     ]
    },
    {
     "name": "stdout",
     "output_type": "stream",
     "text": [
      "MoviePy - Done.\n"
     ]
    },
    {
     "name": "stderr",
     "output_type": "stream",
     "text": [
      "\r"
     ]
    },
    {
     "name": "stdout",
     "output_type": "stream",
     "text": [
      "MoviePy - Writing audio in ..\\data\\1_interim\\\\2UWdXP.joke2.rep2.take1.NomNomNom.wav\n"
     ]
    },
    {
     "name": "stderr",
     "output_type": "stream",
     "text": [
      "                                                                  "
     ]
    },
    {
     "name": "stdout",
     "output_type": "stream",
     "text": [
      "MoviePy - Done.\n"
     ]
    },
    {
     "name": "stderr",
     "output_type": "stream",
     "text": [
      "\r"
     ]
    },
    {
     "name": "stdout",
     "output_type": "stream",
     "text": [
      "MoviePy - Writing audio in ..\\data\\1_interim\\\\2UWdXP.joke2.rep3.take1.NomNomNom.wav\n"
     ]
    },
    {
     "name": "stderr",
     "output_type": "stream",
     "text": [
      "                                                                  \r"
     ]
    },
    {
     "name": "stdout",
     "output_type": "stream",
     "text": [
      "MoviePy - Done.\n",
      "MoviePy - Writing audio in ..\\data\\1_interim\\\\2UWdXP.joke3.rep2.take1.ThatsNotAHat.wav\n"
     ]
    },
    {
     "name": "stderr",
     "output_type": "stream",
     "text": [
      "                                                                  "
     ]
    },
    {
     "name": "stdout",
     "output_type": "stream",
     "text": [
      "MoviePy - Done.\n"
     ]
    },
    {
     "name": "stderr",
     "output_type": "stream",
     "text": [
      "\r"
     ]
    },
    {
     "name": "stdout",
     "output_type": "stream",
     "text": [
      "MoviePy - Writing audio in ..\\data\\1_interim\\\\2UWdXP.joke3.rep3.take1.ThatsNotAHat.wav\n"
     ]
    },
    {
     "name": "stderr",
     "output_type": "stream",
     "text": [
      "                                                                    \r"
     ]
    },
    {
     "name": "stdout",
     "output_type": "stream",
     "text": [
      "MoviePy - Done.\n",
      "MoviePy - Writing audio in ..\\data\\1_interim\\\\2UWdXP.joke4.rep1.take1.TearingPaper.wav\n"
     ]
    },
    {
     "name": "stderr",
     "output_type": "stream",
     "text": [
      "                                                                  \r"
     ]
    },
    {
     "name": "stdout",
     "output_type": "stream",
     "text": [
      "MoviePy - Done.\n",
      "MoviePy - Writing audio in ..\\data\\1_interim\\\\2UWdXP.joke4.rep2.take1.TearingPaper.wav\n"
     ]
    },
    {
     "name": "stderr",
     "output_type": "stream",
     "text": [
      "                                                                  "
     ]
    },
    {
     "name": "stdout",
     "output_type": "stream",
     "text": [
      "MoviePy - Done.\n"
     ]
    },
    {
     "name": "stderr",
     "output_type": "stream",
     "text": [
      "\r"
     ]
    },
    {
     "name": "stdout",
     "output_type": "stream",
     "text": [
      "MoviePy - Writing audio in ..\\data\\1_interim\\\\2UWdXP.joke4.rep3.take1.TearingPaper.wav\n"
     ]
    },
    {
     "name": "stderr",
     "output_type": "stream",
     "text": [
      "                                                                  "
     ]
    },
    {
     "name": "stdout",
     "output_type": "stream",
     "text": [
      "MoviePy - Done.\n"
     ]
    },
    {
     "name": "stderr",
     "output_type": "stream",
     "text": [
      "\r"
     ]
    },
    {
     "name": "stdout",
     "output_type": "stream",
     "text": [
      "MoviePy - Writing audio in ..\\data\\1_interim\\\\2UWdXP.joke5.rep1.take1.ThatsNotACat.wav\n"
     ]
    },
    {
     "name": "stderr",
     "output_type": "stream",
     "text": [
      "                                                                  "
     ]
    },
    {
     "name": "stdout",
     "output_type": "stream",
     "text": [
      "MoviePy - Done.\n"
     ]
    },
    {
     "name": "stderr",
     "output_type": "stream",
     "text": [
      "\r"
     ]
    },
    {
     "name": "stdout",
     "output_type": "stream",
     "text": [
      "MoviePy - Writing audio in ..\\data\\1_interim\\\\2UWdXP.joke5.rep2.take1.ThatsNotACat.wav\n"
     ]
    },
    {
     "name": "stderr",
     "output_type": "stream",
     "text": [
      "                                                                  \r"
     ]
    },
    {
     "name": "stdout",
     "output_type": "stream",
     "text": [
      "MoviePy - Done.\n",
      "MoviePy - Writing audio in ..\\data\\1_interim\\\\2UWdXP.joke5.rep3.take1.ThatsNotACat.wav\n"
     ]
    },
    {
     "name": "stderr",
     "output_type": "stream",
     "text": [
      "                                                                    \r"
     ]
    },
    {
     "name": "stdout",
     "output_type": "stream",
     "text": [
      "MoviePy - Done.\n",
      "MoviePy - Writing audio in ..\\data\\1_interim\\\\3dC3SQ.joke1.rep1.take1.TearingPaper.wav\n"
     ]
    },
    {
     "name": "stderr",
     "output_type": "stream",
     "text": [
      "                                                                    \r"
     ]
    },
    {
     "name": "stdout",
     "output_type": "stream",
     "text": [
      "MoviePy - Done.\n",
      "MoviePy - Writing audio in ..\\data\\1_interim\\\\3dC3SQ.joke1.rep2.take1.TearingPaper.wav\n"
     ]
    },
    {
     "name": "stderr",
     "output_type": "stream",
     "text": [
      "                                                                    \r"
     ]
    },
    {
     "name": "stdout",
     "output_type": "stream",
     "text": [
      "MoviePy - Done.\n",
      "MoviePy - Writing audio in ..\\data\\1_interim\\\\3dC3SQ.joke1.rep3.take1.TearingPaper.wav\n"
     ]
    },
    {
     "name": "stderr",
     "output_type": "stream",
     "text": [
      "                                                                    \r"
     ]
    },
    {
     "name": "stdout",
     "output_type": "stream",
     "text": [
      "MoviePy - Done.\n",
      "MoviePy - Writing audio in ..\\data\\1_interim\\\\3dC3SQ.joke2.rep1.take1.Peekaboo.wav\n"
     ]
    },
    {
     "name": "stderr",
     "output_type": "stream",
     "text": [
      "                                                                    \r"
     ]
    },
    {
     "name": "stdout",
     "output_type": "stream",
     "text": [
      "MoviePy - Done.\n",
      "MoviePy - Writing audio in ..\\data\\1_interim\\\\3dC3SQ.joke2.rep2.take1.Peekaboo.wav\n"
     ]
    },
    {
     "name": "stderr",
     "output_type": "stream",
     "text": [
      "                                                                    \r"
     ]
    },
    {
     "name": "stdout",
     "output_type": "stream",
     "text": [
      "MoviePy - Done.\n",
      "MoviePy - Writing audio in ..\\data\\1_interim\\\\3dC3SQ.joke2.rep3.take1.Peekaboo.wav\n"
     ]
    },
    {
     "name": "stderr",
     "output_type": "stream",
     "text": [
      "                                                                    \r"
     ]
    },
    {
     "name": "stdout",
     "output_type": "stream",
     "text": [
      "MoviePy - Done.\n",
      "MoviePy - Writing audio in ..\\data\\1_interim\\\\3dC3SQ.joke3.rep1.take1.ThatsNotACat.wav\n"
     ]
    },
    {
     "name": "stderr",
     "output_type": "stream",
     "text": [
      "                                                                    \r"
     ]
    },
    {
     "name": "stdout",
     "output_type": "stream",
     "text": [
      "MoviePy - Done.\n",
      "MoviePy - Writing audio in ..\\data\\1_interim\\\\3dC3SQ.joke3.rep2.take1.ThatsNotACat.wav\n"
     ]
    },
    {
     "name": "stderr",
     "output_type": "stream",
     "text": [
      "                                                                    \r"
     ]
    },
    {
     "name": "stdout",
     "output_type": "stream",
     "text": [
      "MoviePy - Done.\n",
      "MoviePy - Writing audio in ..\\data\\1_interim\\\\3dC3SQ.joke3.rep3.take1.ThatsNotACat.wav\n"
     ]
    },
    {
     "name": "stderr",
     "output_type": "stream",
     "text": [
      "                                                                    \r"
     ]
    },
    {
     "name": "stdout",
     "output_type": "stream",
     "text": [
      "MoviePy - Done.\n",
      "MoviePy - Writing audio in ..\\data\\1_interim\\\\3dC3SQ.joke4.rep1.take1.ThatsNotAHat.wav\n"
     ]
    },
    {
     "name": "stderr",
     "output_type": "stream",
     "text": [
      "                                                                    \r"
     ]
    },
    {
     "name": "stdout",
     "output_type": "stream",
     "text": [
      "MoviePy - Done.\n",
      "MoviePy - Writing audio in ..\\data\\1_interim\\\\3dC3SQ.joke4.rep2.take1.ThatsNotAHat.wav\n"
     ]
    },
    {
     "name": "stderr",
     "output_type": "stream",
     "text": [
      "                                                                    \r"
     ]
    },
    {
     "name": "stdout",
     "output_type": "stream",
     "text": [
      "MoviePy - Done.\n",
      "MoviePy - Writing audio in ..\\data\\1_interim\\\\3dC3SQ.joke4.rep3.take1.ThatsNotAHat.wav\n"
     ]
    },
    {
     "name": "stderr",
     "output_type": "stream",
     "text": [
      "                                                                    \r"
     ]
    },
    {
     "name": "stdout",
     "output_type": "stream",
     "text": [
      "MoviePy - Done.\n",
      "MoviePy - Writing audio in ..\\data\\1_interim\\\\3dC3SQ.joke5.rep1.take1.NomNomNom.wav\n"
     ]
    },
    {
     "name": "stderr",
     "output_type": "stream",
     "text": [
      "                                                                    \r"
     ]
    },
    {
     "name": "stdout",
     "output_type": "stream",
     "text": [
      "MoviePy - Done.\n",
      "MoviePy - Writing audio in ..\\data\\1_interim\\\\3dC3SQ.joke5.rep2.take1.NomNomNom.wav\n"
     ]
    },
    {
     "name": "stderr",
     "output_type": "stream",
     "text": [
      "                                                                    \r"
     ]
    },
    {
     "name": "stdout",
     "output_type": "stream",
     "text": [
      "MoviePy - Done.\n",
      "MoviePy - Writing audio in ..\\data\\1_interim\\\\3dC3SQ.joke5.rep3.take1.NomNomNom.wav\n"
     ]
    },
    {
     "name": "stderr",
     "output_type": "stream",
     "text": [
      "                                                                    \r"
     ]
    },
    {
     "name": "stdout",
     "output_type": "stream",
     "text": [
      "MoviePy - Done.\n",
      "MoviePy - Writing audio in ..\\data\\1_interim\\\\4JDccE.joke1.rep1.take1.NomNomNom.wav\n"
     ]
    },
    {
     "name": "stderr",
     "output_type": "stream",
     "text": [
      "                                                                    \r"
     ]
    },
    {
     "name": "stdout",
     "output_type": "stream",
     "text": [
      "MoviePy - Done.\n",
      "MoviePy - Writing audio in ..\\data\\1_interim\\\\4JDccE.joke1.rep2.take1.NomNomNom.wav\n"
     ]
    },
    {
     "name": "stderr",
     "output_type": "stream",
     "text": [
      "                                                                  \r"
     ]
    },
    {
     "name": "stdout",
     "output_type": "stream",
     "text": [
      "MoviePy - Done.\n",
      "MoviePy - Writing audio in ..\\data\\1_interim\\\\4JDccE.joke1.rep3.take1.NomNomNom.wav\n"
     ]
    },
    {
     "name": "stderr",
     "output_type": "stream",
     "text": [
      "                                                                  "
     ]
    },
    {
     "name": "stdout",
     "output_type": "stream",
     "text": [
      "MoviePy - Done.\n"
     ]
    },
    {
     "name": "stderr",
     "output_type": "stream",
     "text": [
      "\r"
     ]
    },
    {
     "name": "stdout",
     "output_type": "stream",
     "text": [
      "MoviePy - Writing audio in ..\\data\\1_interim\\\\4JDccE.joke2.rep1.take1.ThatsNotAHat.wav\n"
     ]
    },
    {
     "name": "stderr",
     "output_type": "stream",
     "text": [
      "                                                                  \r"
     ]
    },
    {
     "name": "stdout",
     "output_type": "stream",
     "text": [
      "MoviePy - Done.\n",
      "MoviePy - Writing audio in ..\\data\\1_interim\\\\4JDccE.joke2.rep2.take1.ThatsNotAHat.wav\n"
     ]
    },
    {
     "name": "stderr",
     "output_type": "stream",
     "text": [
      "                                                                    \r"
     ]
    },
    {
     "name": "stdout",
     "output_type": "stream",
     "text": [
      "MoviePy - Done.\n",
      "MoviePy - Writing audio in ..\\data\\1_interim\\\\4JDccE.joke2.rep3.take1.ThatsNotAHat.wav\n"
     ]
    },
    {
     "name": "stderr",
     "output_type": "stream",
     "text": [
      "                                                                    \r"
     ]
    },
    {
     "name": "stdout",
     "output_type": "stream",
     "text": [
      "MoviePy - Done.\n",
      "MoviePy - Writing audio in ..\\data\\1_interim\\\\4JDccE.joke3.rep2.take1.Peekaboo.wav\n"
     ]
    },
    {
     "name": "stderr",
     "output_type": "stream",
     "text": [
      "                                                                  \r"
     ]
    },
    {
     "name": "stdout",
     "output_type": "stream",
     "text": [
      "MoviePy - Done.\n",
      "MoviePy - Writing audio in ..\\data\\1_interim\\\\4JDccE.joke3.rep3.take1.Peekaboo.wav\n"
     ]
    },
    {
     "name": "stderr",
     "output_type": "stream",
     "text": [
      "                                                                  "
     ]
    },
    {
     "name": "stdout",
     "output_type": "stream",
     "text": [
      "MoviePy - Done.\n"
     ]
    },
    {
     "name": "stderr",
     "output_type": "stream",
     "text": [
      "\r"
     ]
    },
    {
     "name": "stdout",
     "output_type": "stream",
     "text": [
      "MoviePy - Writing audio in ..\\data\\1_interim\\\\4JDccE.joke4.rep1.take1.ThatsNotACat.wav\n"
     ]
    },
    {
     "name": "stderr",
     "output_type": "stream",
     "text": [
      "                                                                   \r"
     ]
    },
    {
     "name": "stdout",
     "output_type": "stream",
     "text": [
      "MoviePy - Done.\n",
      "MoviePy - Writing audio in ..\\data\\1_interim\\\\4JDccE.joke4.rep3.take1.ThatsNotACat.wav\n"
     ]
    },
    {
     "name": "stderr",
     "output_type": "stream",
     "text": [
      "                                                                   \r"
     ]
    },
    {
     "name": "stdout",
     "output_type": "stream",
     "text": [
      "MoviePy - Done.\n",
      "MoviePy - Writing audio in ..\\data\\1_interim\\\\4JDccE.joke5.rep1.take1.TearingPaper.wav\n"
     ]
    },
    {
     "name": "stderr",
     "output_type": "stream",
     "text": [
      "                                                                 "
     ]
    },
    {
     "name": "stdout",
     "output_type": "stream",
     "text": [
      "MoviePy - Done.\n"
     ]
    },
    {
     "name": "stderr",
     "output_type": "stream",
     "text": [
      "\r"
     ]
    },
    {
     "name": "stdout",
     "output_type": "stream",
     "text": [
      "MoviePy - Writing audio in ..\\data\\1_interim\\\\4JDccE.joke5.rep2.take1.TearingPaper.wav\n"
     ]
    },
    {
     "name": "stderr",
     "output_type": "stream",
     "text": [
      "                                                                  "
     ]
    },
    {
     "name": "stdout",
     "output_type": "stream",
     "text": [
      "MoviePy - Done.\n"
     ]
    },
    {
     "name": "stderr",
     "output_type": "stream",
     "text": [
      "\r"
     ]
    },
    {
     "name": "stdout",
     "output_type": "stream",
     "text": [
      "MoviePy - Writing audio in ..\\data\\1_interim\\\\4JDccE.joke5.rep3.take1.TearingPaper.wav\n"
     ]
    },
    {
     "name": "stderr",
     "output_type": "stream",
     "text": [
      "                                                               "
     ]
    },
    {
     "name": "stdout",
     "output_type": "stream",
     "text": [
      "MoviePy - Done.\n"
     ]
    },
    {
     "name": "stderr",
     "output_type": "stream",
     "text": [
      "\r"
     ]
    },
    {
     "name": "stdout",
     "output_type": "stream",
     "text": [
      "MoviePy - Writing audio in ..\\data\\1_interim\\\\6c6MZQ.joke1.rep1.take1.ThatsNotAHat.wav\n"
     ]
    },
    {
     "name": "stderr",
     "output_type": "stream",
     "text": [
      "                                                                    \r"
     ]
    },
    {
     "name": "stdout",
     "output_type": "stream",
     "text": [
      "MoviePy - Done.\n",
      "MoviePy - Writing audio in ..\\data\\1_interim\\\\6c6MZQ.joke1.rep2.take1.ThatsNotAHat.wav\n"
     ]
    },
    {
     "name": "stderr",
     "output_type": "stream",
     "text": [
      "                                                                  \r"
     ]
    },
    {
     "name": "stdout",
     "output_type": "stream",
     "text": [
      "MoviePy - Done.\n",
      "MoviePy - Writing audio in ..\\data\\1_interim\\\\6c6MZQ.joke1.rep3.take1.ThatsNotAHat.wav\n"
     ]
    },
    {
     "name": "stderr",
     "output_type": "stream",
     "text": [
      "                                                                    \r"
     ]
    },
    {
     "name": "stdout",
     "output_type": "stream",
     "text": [
      "MoviePy - Done.\n",
      "MoviePy - Writing audio in ..\\data\\1_interim\\\\6c6MZQ.joke2.rep1.take1.NomNomNom.wav\n"
     ]
    },
    {
     "name": "stderr",
     "output_type": "stream",
     "text": [
      "                                                                  \r"
     ]
    },
    {
     "name": "stdout",
     "output_type": "stream",
     "text": [
      "MoviePy - Done.\n",
      "MoviePy - Writing audio in ..\\data\\1_interim\\\\6c6MZQ.joke2.rep2.take1.NomNomNom.wav\n"
     ]
    },
    {
     "name": "stderr",
     "output_type": "stream",
     "text": [
      "                                                                  \r"
     ]
    },
    {
     "name": "stdout",
     "output_type": "stream",
     "text": [
      "MoviePy - Done.\n",
      "MoviePy - Writing audio in ..\\data\\1_interim\\\\6c6MZQ.joke2.rep3.take1.NomNomNom.wav\n"
     ]
    },
    {
     "name": "stderr",
     "output_type": "stream",
     "text": [
      "                                                                    \r"
     ]
    },
    {
     "name": "stdout",
     "output_type": "stream",
     "text": [
      "MoviePy - Done.\n",
      "MoviePy - Writing audio in ..\\data\\1_interim\\\\6c6MZQ.joke3.rep2.take1.Peekaboo.wav\n"
     ]
    },
    {
     "name": "stderr",
     "output_type": "stream",
     "text": [
      "                                                                  "
     ]
    },
    {
     "name": "stdout",
     "output_type": "stream",
     "text": [
      "MoviePy - Done.\n"
     ]
    },
    {
     "name": "stderr",
     "output_type": "stream",
     "text": [
      "\r"
     ]
    },
    {
     "name": "stdout",
     "output_type": "stream",
     "text": [
      "MoviePy - Writing audio in ..\\data\\1_interim\\\\6c6MZQ.joke3.rep3.take1.Peekaboo.wav\n"
     ]
    },
    {
     "name": "stderr",
     "output_type": "stream",
     "text": [
      "                                                                  "
     ]
    },
    {
     "name": "stdout",
     "output_type": "stream",
     "text": [
      "MoviePy - Done.\n"
     ]
    },
    {
     "name": "stderr",
     "output_type": "stream",
     "text": [
      "\r"
     ]
    },
    {
     "name": "stdout",
     "output_type": "stream",
     "text": [
      "MoviePy - Writing audio in ..\\data\\1_interim\\\\6c6MZQ.joke4.rep1.take1.ThatsNotACat.wav\n"
     ]
    },
    {
     "name": "stderr",
     "output_type": "stream",
     "text": [
      "                                                                  \r"
     ]
    },
    {
     "name": "stdout",
     "output_type": "stream",
     "text": [
      "MoviePy - Done.\n",
      "MoviePy - Writing audio in ..\\data\\1_interim\\\\6c6MZQ.joke4.rep2.take1.ThatsNotACat.wav\n"
     ]
    },
    {
     "name": "stderr",
     "output_type": "stream",
     "text": [
      "                                                                  "
     ]
    },
    {
     "name": "stdout",
     "output_type": "stream",
     "text": [
      "MoviePy - Done.\n"
     ]
    },
    {
     "name": "stderr",
     "output_type": "stream",
     "text": [
      "\r"
     ]
    },
    {
     "name": "stdout",
     "output_type": "stream",
     "text": [
      "MoviePy - Writing audio in ..\\data\\1_interim\\\\6c6MZQ.joke4.rep3.take1.ThatsNotACat.wav\n"
     ]
    },
    {
     "name": "stderr",
     "output_type": "stream",
     "text": [
      "                                                                    \r"
     ]
    },
    {
     "name": "stdout",
     "output_type": "stream",
     "text": [
      "MoviePy - Done.\n",
      "MoviePy - Writing audio in ..\\data\\1_interim\\\\6c6MZQ.joke5.rep1.take1.TearingPaper.wav\n"
     ]
    },
    {
     "name": "stderr",
     "output_type": "stream",
     "text": [
      "                                                                   \r"
     ]
    },
    {
     "name": "stdout",
     "output_type": "stream",
     "text": [
      "MoviePy - Done.\n",
      "MoviePy - Writing audio in ..\\data\\1_interim\\\\6c6MZQ.joke5.rep3.take1.TearingPaper.wav\n"
     ]
    },
    {
     "name": "stderr",
     "output_type": "stream",
     "text": [
      "                                                                  "
     ]
    },
    {
     "name": "stdout",
     "output_type": "stream",
     "text": [
      "MoviePy - Done.\n"
     ]
    },
    {
     "name": "stderr",
     "output_type": "stream",
     "text": [
      "\r"
     ]
    },
    {
     "data": {
      "text/html": [
       "<div>\n",
       "<style scoped>\n",
       "    .dataframe tbody tr th:only-of-type {\n",
       "        vertical-align: middle;\n",
       "    }\n",
       "\n",
       "    .dataframe tbody tr th {\n",
       "        vertical-align: top;\n",
       "    }\n",
       "\n",
       "    .dataframe thead th {\n",
       "        text-align: right;\n",
       "    }\n",
       "</style>\n",
       "<table border=\"1\" class=\"dataframe\">\n",
       "  <thead>\n",
       "    <tr style=\"text-align: right;\">\n",
       "      <th></th>\n",
       "      <th>Unnamed: 0.1</th>\n",
       "      <th>Unnamed: 0</th>\n",
       "      <th>VideoID</th>\n",
       "      <th>ChildID</th>\n",
       "      <th>JokeType</th>\n",
       "      <th>JokeNum</th>\n",
       "      <th>JokeRep</th>\n",
       "      <th>JokeTake</th>\n",
       "      <th>HowFunny</th>\n",
       "      <th>LaughYesNo</th>\n",
       "      <th>...</th>\n",
       "      <th>Duration</th>\n",
       "      <th>Keypoints.when</th>\n",
       "      <th>Keypoints.file</th>\n",
       "      <th>Audio.when</th>\n",
       "      <th>Audio.file</th>\n",
       "      <th>Cleaned.when</th>\n",
       "      <th>Cleaned.file</th>\n",
       "      <th>LastError</th>\n",
       "      <th>Speech.file</th>\n",
       "      <th>Speech.when</th>\n",
       "    </tr>\n",
       "  </thead>\n",
       "  <tbody>\n",
       "    <tr>\n",
       "      <th>0</th>\n",
       "      <td>0</td>\n",
       "      <td>0</td>\n",
       "      <td>2UWdXP.joke1.rep2.take1.Peekaboo.mp4</td>\n",
       "      <td>2UWdXP</td>\n",
       "      <td>Peekaboo</td>\n",
       "      <td>1</td>\n",
       "      <td>2</td>\n",
       "      <td>1</td>\n",
       "      <td>Slightly funny</td>\n",
       "      <td>No</td>\n",
       "      <td>...</td>\n",
       "      <td>15.175982</td>\n",
       "      <td>2023-09-19 11:39:38</td>\n",
       "      <td>..\\data\\1_interim\\\\2UWdXP.joke1.rep2.take1.Pee...</td>\n",
       "      <td>2023-09-22 14:03:28</td>\n",
       "      <td>..\\data\\1_interim\\\\2UWdXP.joke1.rep2.take1.Pee...</td>\n",
       "      <td>NaN</td>\n",
       "      <td>NaN</td>\n",
       "      <td>NaN</td>\n",
       "      <td>..\\data\\1_interim\\2UWdXP.joke1.rep2.take1.Peek...</td>\n",
       "      <td>2023-09-20 16:58:38</td>\n",
       "    </tr>\n",
       "    <tr>\n",
       "      <th>1</th>\n",
       "      <td>1</td>\n",
       "      <td>1</td>\n",
       "      <td>2UWdXP.joke1.rep3.take1.Peekaboo.mp4</td>\n",
       "      <td>2UWdXP</td>\n",
       "      <td>Peekaboo</td>\n",
       "      <td>1</td>\n",
       "      <td>3</td>\n",
       "      <td>1</td>\n",
       "      <td>Slightly funny</td>\n",
       "      <td>No</td>\n",
       "      <td>...</td>\n",
       "      <td>10.585630</td>\n",
       "      <td>2023-09-19 11:40:12</td>\n",
       "      <td>..\\data\\1_interim\\\\2UWdXP.joke1.rep3.take1.Pee...</td>\n",
       "      <td>2023-09-22 14:03:28</td>\n",
       "      <td>..\\data\\1_interim\\\\2UWdXP.joke1.rep3.take1.Pee...</td>\n",
       "      <td>NaN</td>\n",
       "      <td>NaN</td>\n",
       "      <td>NaN</td>\n",
       "      <td>..\\data\\1_interim\\2UWdXP.joke1.rep3.take1.Peek...</td>\n",
       "      <td>2023-09-20 16:58:39</td>\n",
       "    </tr>\n",
       "    <tr>\n",
       "      <th>2</th>\n",
       "      <td>2</td>\n",
       "      <td>2</td>\n",
       "      <td>2UWdXP.joke2.rep1.take1.NomNomNom.mp4</td>\n",
       "      <td>2UWdXP</td>\n",
       "      <td>NomNomNom</td>\n",
       "      <td>2</td>\n",
       "      <td>1</td>\n",
       "      <td>1</td>\n",
       "      <td>Funny</td>\n",
       "      <td>No</td>\n",
       "      <td>...</td>\n",
       "      <td>7.174514</td>\n",
       "      <td>2023-09-19 11:40:36</td>\n",
       "      <td>..\\data\\1_interim\\\\2UWdXP.joke2.rep1.take1.Nom...</td>\n",
       "      <td>2023-09-22 14:03:29</td>\n",
       "      <td>..\\data\\1_interim\\\\2UWdXP.joke2.rep1.take1.Nom...</td>\n",
       "      <td>NaN</td>\n",
       "      <td>NaN</td>\n",
       "      <td>NaN</td>\n",
       "      <td>..\\data\\1_interim\\2UWdXP.joke2.rep1.take1.NomN...</td>\n",
       "      <td>2023-09-20 16:58:40</td>\n",
       "    </tr>\n",
       "    <tr>\n",
       "      <th>3</th>\n",
       "      <td>3</td>\n",
       "      <td>3</td>\n",
       "      <td>2UWdXP.joke2.rep2.take1.NomNomNom.mp4</td>\n",
       "      <td>2UWdXP</td>\n",
       "      <td>NomNomNom</td>\n",
       "      <td>2</td>\n",
       "      <td>2</td>\n",
       "      <td>1</td>\n",
       "      <td>Slightly funny</td>\n",
       "      <td>No</td>\n",
       "      <td>...</td>\n",
       "      <td>6.824348</td>\n",
       "      <td>2023-09-19 11:41:00</td>\n",
       "      <td>..\\data\\1_interim\\\\2UWdXP.joke2.rep2.take1.Nom...</td>\n",
       "      <td>2023-09-22 14:03:30</td>\n",
       "      <td>..\\data\\1_interim\\\\2UWdXP.joke2.rep2.take1.Nom...</td>\n",
       "      <td>NaN</td>\n",
       "      <td>NaN</td>\n",
       "      <td>NaN</td>\n",
       "      <td>..\\data\\1_interim\\2UWdXP.joke2.rep2.take1.NomN...</td>\n",
       "      <td>2023-09-20 16:58:40</td>\n",
       "    </tr>\n",
       "    <tr>\n",
       "      <th>4</th>\n",
       "      <td>4</td>\n",
       "      <td>4</td>\n",
       "      <td>2UWdXP.joke2.rep3.take1.NomNomNom.mp4</td>\n",
       "      <td>2UWdXP</td>\n",
       "      <td>NomNomNom</td>\n",
       "      <td>2</td>\n",
       "      <td>3</td>\n",
       "      <td>1</td>\n",
       "      <td>Slightly funny</td>\n",
       "      <td>No</td>\n",
       "      <td>...</td>\n",
       "      <td>9.350991</td>\n",
       "      <td>2023-09-19 11:41:34</td>\n",
       "      <td>..\\data\\1_interim\\\\2UWdXP.joke2.rep3.take1.Nom...</td>\n",
       "      <td>2023-09-22 14:03:30</td>\n",
       "      <td>..\\data\\1_interim\\\\2UWdXP.joke2.rep3.take1.Nom...</td>\n",
       "      <td>NaN</td>\n",
       "      <td>NaN</td>\n",
       "      <td>NaN</td>\n",
       "      <td>..\\data\\1_interim\\2UWdXP.joke2.rep3.take1.NomN...</td>\n",
       "      <td>2023-09-20 16:58:48</td>\n",
       "    </tr>\n",
       "  </tbody>\n",
       "</table>\n",
       "<p>5 rows × 24 columns</p>\n",
       "</div>"
      ],
      "text/plain": [
       "   Unnamed: 0.1  Unnamed: 0                                VideoID ChildID  \\\n",
       "0             0           0   2UWdXP.joke1.rep2.take1.Peekaboo.mp4  2UWdXP   \n",
       "1             1           1   2UWdXP.joke1.rep3.take1.Peekaboo.mp4  2UWdXP   \n",
       "2             2           2  2UWdXP.joke2.rep1.take1.NomNomNom.mp4  2UWdXP   \n",
       "3             3           3  2UWdXP.joke2.rep2.take1.NomNomNom.mp4  2UWdXP   \n",
       "4             4           4  2UWdXP.joke2.rep3.take1.NomNomNom.mp4  2UWdXP   \n",
       "\n",
       "    JokeType  JokeNum  JokeRep  JokeTake        HowFunny LaughYesNo  ...  \\\n",
       "0   Peekaboo        1        2         1  Slightly funny         No  ...   \n",
       "1   Peekaboo        1        3         1  Slightly funny         No  ...   \n",
       "2  NomNomNom        2        1         1           Funny         No  ...   \n",
       "3  NomNomNom        2        2         1  Slightly funny         No  ...   \n",
       "4  NomNomNom        2        3         1  Slightly funny         No  ...   \n",
       "\n",
       "    Duration       Keypoints.when  \\\n",
       "0  15.175982  2023-09-19 11:39:38   \n",
       "1  10.585630  2023-09-19 11:40:12   \n",
       "2   7.174514  2023-09-19 11:40:36   \n",
       "3   6.824348  2023-09-19 11:41:00   \n",
       "4   9.350991  2023-09-19 11:41:34   \n",
       "\n",
       "                                      Keypoints.file           Audio.when  \\\n",
       "0  ..\\data\\1_interim\\\\2UWdXP.joke1.rep2.take1.Pee...  2023-09-22 14:03:28   \n",
       "1  ..\\data\\1_interim\\\\2UWdXP.joke1.rep3.take1.Pee...  2023-09-22 14:03:28   \n",
       "2  ..\\data\\1_interim\\\\2UWdXP.joke2.rep1.take1.Nom...  2023-09-22 14:03:29   \n",
       "3  ..\\data\\1_interim\\\\2UWdXP.joke2.rep2.take1.Nom...  2023-09-22 14:03:30   \n",
       "4  ..\\data\\1_interim\\\\2UWdXP.joke2.rep3.take1.Nom...  2023-09-22 14:03:30   \n",
       "\n",
       "                                          Audio.file Cleaned.when  \\\n",
       "0  ..\\data\\1_interim\\\\2UWdXP.joke1.rep2.take1.Pee...          NaN   \n",
       "1  ..\\data\\1_interim\\\\2UWdXP.joke1.rep3.take1.Pee...          NaN   \n",
       "2  ..\\data\\1_interim\\\\2UWdXP.joke2.rep1.take1.Nom...          NaN   \n",
       "3  ..\\data\\1_interim\\\\2UWdXP.joke2.rep2.take1.Nom...          NaN   \n",
       "4  ..\\data\\1_interim\\\\2UWdXP.joke2.rep3.take1.Nom...          NaN   \n",
       "\n",
       "  Cleaned.file LastError                                        Speech.file  \\\n",
       "0          NaN       NaN  ..\\data\\1_interim\\2UWdXP.joke1.rep2.take1.Peek...   \n",
       "1          NaN       NaN  ..\\data\\1_interim\\2UWdXP.joke1.rep3.take1.Peek...   \n",
       "2          NaN       NaN  ..\\data\\1_interim\\2UWdXP.joke2.rep1.take1.NomN...   \n",
       "3          NaN       NaN  ..\\data\\1_interim\\2UWdXP.joke2.rep2.take1.NomN...   \n",
       "4          NaN       NaN  ..\\data\\1_interim\\2UWdXP.joke2.rep3.take1.NomN...   \n",
       "\n",
       "           Speech.when  \n",
       "0  2023-09-20 16:58:38  \n",
       "1  2023-09-20 16:58:39  \n",
       "2  2023-09-20 16:58:40  \n",
       "3  2023-09-20 16:58:40  \n",
       "4  2023-09-20 16:58:48  \n",
       "\n",
       "[5 rows x 24 columns]"
      ]
     },
     "execution_count": 13,
     "metadata": {},
     "output_type": "execute_result"
    }
   ],
   "source": [
    "forceaudio = True\n",
    "#output_ext=\"mp3\"\n",
    "output_ext=\"wav\"\n",
    "\n",
    "for index, r in processedvideos.iterrows():\n",
    "    if forceaudio or pd.isnull(r[\"Audio.file\"]):\n",
    "        audiopath = convert_video_to_audio_moviepy(videos_in,r[\"VideoID\"], videos_out, output_ext=output_ext)\n",
    "        r[\"Audio.file\"] = audiopath\n",
    "        r[\"Audio.when\"] = time.strftime(\"%Y-%m-%d %H:%M:%S\", time.gmtime())\n",
    "        #update this row in processedvideos dataframe\n",
    "        processedvideos.loc[index] = r\n",
    "        \n",
    "\n",
    "processedvideos.to_excel(videos_out + \"\\\\processedvideos.xlsx\")\n",
    "processedvideos.head()"
   ]
  }
 ],
 "metadata": {
  "kernelspec": {
   "display_name": "babyjokes-hnIM0ZSK",
   "language": "python",
   "name": "python3"
  },
  "language_info": {
   "codemirror_mode": {
    "name": "ipython",
    "version": 3
   },
   "file_extension": ".py",
   "mimetype": "text/x-python",
   "name": "python",
   "nbconvert_exporter": "python",
   "pygments_lexer": "ipython3",
   "version": "3.11.5"
  },
  "orig_nbformat": 4
 },
 "nbformat": 4,
 "nbformat_minor": 2
}
