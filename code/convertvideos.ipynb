{
 "cells": [
  {
   "cell_type": "code",
   "execution_count": null,
   "metadata": {},
   "outputs": [],
   "source": [
    "#want to iterate through all the videos in the folder and convert them to \"mpeg4/H.264 webp\"\n",
    "import os\n",
    "import ffmpeg\n",
    "import subprocess\n",
    "\n",
    "def convert_videos_to_webp(input_folder, output_folder):\n",
    "    # Create output folder if it doesn't exist\n",
    "    if not os.path.exists(output_folder):\n",
    "        os.makedirs(output_folder)\n",
    "\n",
    "    # Iterate through all files in the input folder\n",
    "    for file in os.listdir(input_folder):\n",
    "        if file.endswith('.mp4'):\n",
    "            input_path = os.path.join(input_folder, file)\n",
    "            output_path = os.path.join(output_folder, file.replace('.mp4', '.webm'))\n",
    "\n",
    "            try:\n",
    "                print(f\"Converting {file}\")\n",
    "                # Convert video to WebM (VP9 codec)\n",
    "                command = [\n",
    "                    'ffmpeg',\n",
    "                    '-i', input_path,\n",
    "                    '-c:v', 'libvpx-vp9',\n",
    "                    '-crf', '30',\n",
    "                    '-b:v', '0',\n",
    "                    '-b:a', '128k',\n",
    "                    '-c:a', 'libopus',\n",
    "                    output_path\n",
    "                ]\n",
    "                # Use shell=True for Windows and pass the command as a string\n",
    "                command_str = ' '.join(command)\n",
    "                result = subprocess.run(command_str, check=True, shell=True, capture_output=True, text=True)\n",
    "            except subprocess.CalledProcessError as e:\n",
    "                print(f\"Error converting {input_path}: {e}\")\n",
    "            except Exception as e:\n",
    "                print(f\"Unexpected error converting {input_path}: {e}\")\n",
    "\n",
    "# Define the input and output folders\n",
    "input_folder = r\"C:\\Users\\caspar\\OneDrive\\data\\LookitLaughter.videos\"\n",
    "output_folder = r\"C:\\Users\\caspar\\OneDrive\\data\\LookitLaughter.webm\"\n",
    "\n",
    "# Convert videos to WebM\n",
    "convert_videos_to_webp(input_folder, output_folder)"
   ]
  }
 ],
 "metadata": {
  "kernelspec": {
   "display_name": "babyjokes",
   "language": "python",
   "name": "python3"
  },
  "language_info": {
   "codemirror_mode": {
    "name": "ipython",
    "version": 3
   },
   "file_extension": ".py",
   "mimetype": "text/x-python",
   "name": "python",
   "nbconvert_exporter": "python",
   "pygments_lexer": "ipython3",
   "version": "3.12.5"
  }
 },
 "nbformat": 4,
 "nbformat_minor": 2
}
