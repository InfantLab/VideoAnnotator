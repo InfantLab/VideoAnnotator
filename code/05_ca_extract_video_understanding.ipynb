{
 "cells": [
  {
   "cell_type": "markdown",
   "metadata": {},
   "source": [
    "# 5 Extract video understanding\n",
    "\n",
    "We use the [Ask-Anything](https://github.com/OpenGVLab/Ask-Anything) approach to extract a rich descriptiom of the video. Ask Anything calls a range of different computer vision and speech recognition models to extract information from the video. It then passes this information to a large language model (default is ChatGPT) to produce a description. Additional prompt engineering can be added to tailor the description for a specific purpose. The raw information of the component models is also available for further processing. \n",
    "\n",
    "\n",
    "This is based on the \n",
    "\n",
    "https://medium.com/p/c570ab487183\n",
    "\n",
    "## References\n",
    "\n",
    "The Ask-Anything approach is described in the paper [AVideoChat: Chat-Centric Video Understanding](https://arxiv.org/abs/2305.06355). The code is available on [GitHub](https://github.com/OpenGVLab/Ask-Anything)"
   ]
  },
  {
   "cell_type": "code",
   "execution_count": null,
   "metadata": {},
   "outputs": [],
   "source": []
  }
 ],
 "metadata": {
  "language_info": {
   "name": "python"
  },
  "orig_nbformat": 4
 },
 "nbformat": 4,
 "nbformat_minor": 2
}
