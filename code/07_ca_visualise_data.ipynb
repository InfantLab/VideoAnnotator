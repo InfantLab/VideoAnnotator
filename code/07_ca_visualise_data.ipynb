{
 "cells": [
  {
   "cell_type": "markdown",
   "metadata": {},
   "source": [
    "# 7 Visualise activity in a video.\n",
    "\n",
    "We have extracted all the features we plan to use. Overlaying these on the video was useful.\n",
    "But watching annotated videos is inefficient and not always informative.. \n",
    "\n",
    "To help with understanding we build a few tools that let's see at a glance what happens over time."
   ]
  },
  {
   "cell_type": "markdown",
   "metadata": {},
   "source": [
    "# 7.1  TODO Plot movement over time. \n",
    "\n",
    "In each frame let's find the `centre of gravity` for each person (the average of all the high-confidence marker points). This is handy for time series visualisation. For example plotting the cog.x for each person over time shows how they move closer and further from each other. \n",
    "\n"
   ]
  },
  {
   "cell_type": "code",
   "execution_count": 1,
   "metadata": {},
   "outputs": [],
   "source": [
    "import os\n",
    "import utils\n",
    "import calcs\n",
    "import pandas as pd\n",
    "import numpy as np\n",
    "import matplotlib.pyplot as plt"
   ]
  },
  {
   "cell_type": "code",
   "execution_count": 2,
   "metadata": {},
   "outputs": [
    {
     "name": "stdout",
     "output_type": "stream",
     "text": [
      "Found existing processedvideos.xlsx\n"
     ]
    },
    {
     "data": {
      "text/html": [
       "<div>\n",
       "<style scoped>\n",
       "    .dataframe tbody tr th:only-of-type {\n",
       "        vertical-align: middle;\n",
       "    }\n",
       "\n",
       "    .dataframe tbody tr th {\n",
       "        vertical-align: top;\n",
       "    }\n",
       "\n",
       "    .dataframe thead th {\n",
       "        text-align: right;\n",
       "    }\n",
       "</style>\n",
       "<table border=\"1\" class=\"dataframe\">\n",
       "  <thead>\n",
       "    <tr style=\"text-align: right;\">\n",
       "      <th></th>\n",
       "      <th>VideoID</th>\n",
       "      <th>ChildID</th>\n",
       "      <th>JokeType</th>\n",
       "      <th>JokeNum</th>\n",
       "      <th>JokeRep</th>\n",
       "      <th>JokeTake</th>\n",
       "      <th>HowFunny</th>\n",
       "      <th>LaughYesNo</th>\n",
       "      <th>Frames</th>\n",
       "      <th>FPS</th>\n",
       "      <th>...</th>\n",
       "      <th>Audio.file</th>\n",
       "      <th>Faces.when</th>\n",
       "      <th>Faces.file</th>\n",
       "      <th>LastError</th>\n",
       "      <th>Speech.file</th>\n",
       "      <th>Speech.when</th>\n",
       "      <th>Objects.file</th>\n",
       "      <th>Objects.when</th>\n",
       "      <th>Understand.file</th>\n",
       "      <th>Understand.when</th>\n",
       "    </tr>\n",
       "  </thead>\n",
       "  <tbody>\n",
       "    <tr>\n",
       "      <th>0</th>\n",
       "      <td>2UWdXP.joke1.rep2.take1.Peekaboo.mp4</td>\n",
       "      <td>2UWdXP</td>\n",
       "      <td>Peekaboo</td>\n",
       "      <td>1</td>\n",
       "      <td>2</td>\n",
       "      <td>1</td>\n",
       "      <td>Slightly funny</td>\n",
       "      <td>No</td>\n",
       "      <td>217</td>\n",
       "      <td>14.298910</td>\n",
       "      <td>...</td>\n",
       "      <td>..\\data\\1_interim\\\\2UWdXP.joke1.rep2.take1.Pee...</td>\n",
       "      <td>2023-10-09 13:24:54</td>\n",
       "      <td>..\\data\\1_interim\\2UWdXP.joke1.rep2.take1.Peek...</td>\n",
       "      <td>NaN</td>\n",
       "      <td>..\\data\\1_interim\\2UWdXP.joke1.rep2.take1.Peek...</td>\n",
       "      <td>2023-09-20 16:58:38</td>\n",
       "      <td>NaN</td>\n",
       "      <td>NaN</td>\n",
       "      <td>NaN</td>\n",
       "      <td>NaN</td>\n",
       "    </tr>\n",
       "    <tr>\n",
       "      <th>1</th>\n",
       "      <td>2UWdXP.joke1.rep3.take1.Peekaboo.mp4</td>\n",
       "      <td>2UWdXP</td>\n",
       "      <td>Peekaboo</td>\n",
       "      <td>1</td>\n",
       "      <td>3</td>\n",
       "      <td>1</td>\n",
       "      <td>Slightly funny</td>\n",
       "      <td>No</td>\n",
       "      <td>152</td>\n",
       "      <td>14.359089</td>\n",
       "      <td>...</td>\n",
       "      <td>..\\data\\1_interim\\\\2UWdXP.joke1.rep3.take1.Pee...</td>\n",
       "      <td>2023-10-09 13:39:17</td>\n",
       "      <td>..\\data\\1_interim\\2UWdXP.joke1.rep3.take1.Peek...</td>\n",
       "      <td>NaN</td>\n",
       "      <td>..\\data\\1_interim\\2UWdXP.joke1.rep3.take1.Peek...</td>\n",
       "      <td>2023-09-20 16:58:39</td>\n",
       "      <td>NaN</td>\n",
       "      <td>NaN</td>\n",
       "      <td>NaN</td>\n",
       "      <td>NaN</td>\n",
       "    </tr>\n",
       "    <tr>\n",
       "      <th>2</th>\n",
       "      <td>2UWdXP.joke2.rep1.take1.NomNomNom.mp4</td>\n",
       "      <td>2UWdXP</td>\n",
       "      <td>NomNomNom</td>\n",
       "      <td>2</td>\n",
       "      <td>1</td>\n",
       "      <td>1</td>\n",
       "      <td>Funny</td>\n",
       "      <td>No</td>\n",
       "      <td>95</td>\n",
       "      <td>13.241315</td>\n",
       "      <td>...</td>\n",
       "      <td>..\\data\\1_interim\\\\2UWdXP.joke2.rep1.take1.Nom...</td>\n",
       "      <td>2023-10-09 13:40:52</td>\n",
       "      <td>..\\data\\1_interim\\2UWdXP.joke2.rep1.take1.NomN...</td>\n",
       "      <td>NaN</td>\n",
       "      <td>..\\data\\1_interim\\2UWdXP.joke2.rep1.take1.NomN...</td>\n",
       "      <td>2023-09-20 16:58:40</td>\n",
       "      <td>NaN</td>\n",
       "      <td>NaN</td>\n",
       "      <td>NaN</td>\n",
       "      <td>NaN</td>\n",
       "    </tr>\n",
       "    <tr>\n",
       "      <th>3</th>\n",
       "      <td>2UWdXP.joke2.rep2.take1.NomNomNom.mp4</td>\n",
       "      <td>2UWdXP</td>\n",
       "      <td>NomNomNom</td>\n",
       "      <td>2</td>\n",
       "      <td>2</td>\n",
       "      <td>1</td>\n",
       "      <td>Slightly funny</td>\n",
       "      <td>No</td>\n",
       "      <td>97</td>\n",
       "      <td>14.213813</td>\n",
       "      <td>...</td>\n",
       "      <td>..\\data\\1_interim\\\\2UWdXP.joke2.rep2.take1.Nom...</td>\n",
       "      <td>2023-10-09 13:42:05</td>\n",
       "      <td>..\\data\\1_interim\\2UWdXP.joke2.rep2.take1.NomN...</td>\n",
       "      <td>NaN</td>\n",
       "      <td>..\\data\\1_interim\\2UWdXP.joke2.rep2.take1.NomN...</td>\n",
       "      <td>2023-09-20 16:58:40</td>\n",
       "      <td>NaN</td>\n",
       "      <td>NaN</td>\n",
       "      <td>NaN</td>\n",
       "      <td>NaN</td>\n",
       "    </tr>\n",
       "    <tr>\n",
       "      <th>4</th>\n",
       "      <td>2UWdXP.joke2.rep3.take1.NomNomNom.mp4</td>\n",
       "      <td>2UWdXP</td>\n",
       "      <td>NomNomNom</td>\n",
       "      <td>2</td>\n",
       "      <td>3</td>\n",
       "      <td>1</td>\n",
       "      <td>Slightly funny</td>\n",
       "      <td>No</td>\n",
       "      <td>133</td>\n",
       "      <td>14.223092</td>\n",
       "      <td>...</td>\n",
       "      <td>..\\data\\1_interim\\\\2UWdXP.joke2.rep3.take1.Nom...</td>\n",
       "      <td>2023-10-09 13:44:38</td>\n",
       "      <td>..\\data\\1_interim\\2UWdXP.joke2.rep3.take1.NomN...</td>\n",
       "      <td>NaN</td>\n",
       "      <td>..\\data\\1_interim\\2UWdXP.joke2.rep3.take1.NomN...</td>\n",
       "      <td>2023-09-20 16:58:48</td>\n",
       "      <td>NaN</td>\n",
       "      <td>NaN</td>\n",
       "      <td>NaN</td>\n",
       "      <td>NaN</td>\n",
       "    </tr>\n",
       "  </tbody>\n",
       "</table>\n",
       "<p>5 rows × 26 columns</p>\n",
       "</div>"
      ],
      "text/plain": [
       "                                 VideoID ChildID   JokeType  JokeNum  JokeRep  \\\n",
       "0   2UWdXP.joke1.rep2.take1.Peekaboo.mp4  2UWdXP   Peekaboo        1        2   \n",
       "1   2UWdXP.joke1.rep3.take1.Peekaboo.mp4  2UWdXP   Peekaboo        1        3   \n",
       "2  2UWdXP.joke2.rep1.take1.NomNomNom.mp4  2UWdXP  NomNomNom        2        1   \n",
       "3  2UWdXP.joke2.rep2.take1.NomNomNom.mp4  2UWdXP  NomNomNom        2        2   \n",
       "4  2UWdXP.joke2.rep3.take1.NomNomNom.mp4  2UWdXP  NomNomNom        2        3   \n",
       "\n",
       "   JokeTake        HowFunny LaughYesNo  Frames        FPS  ...  \\\n",
       "0         1  Slightly funny         No     217  14.298910  ...   \n",
       "1         1  Slightly funny         No     152  14.359089  ...   \n",
       "2         1           Funny         No      95  13.241315  ...   \n",
       "3         1  Slightly funny         No      97  14.213813  ...   \n",
       "4         1  Slightly funny         No     133  14.223092  ...   \n",
       "\n",
       "                                          Audio.file           Faces.when  \\\n",
       "0  ..\\data\\1_interim\\\\2UWdXP.joke1.rep2.take1.Pee...  2023-10-09 13:24:54   \n",
       "1  ..\\data\\1_interim\\\\2UWdXP.joke1.rep3.take1.Pee...  2023-10-09 13:39:17   \n",
       "2  ..\\data\\1_interim\\\\2UWdXP.joke2.rep1.take1.Nom...  2023-10-09 13:40:52   \n",
       "3  ..\\data\\1_interim\\\\2UWdXP.joke2.rep2.take1.Nom...  2023-10-09 13:42:05   \n",
       "4  ..\\data\\1_interim\\\\2UWdXP.joke2.rep3.take1.Nom...  2023-10-09 13:44:38   \n",
       "\n",
       "                                          Faces.file LastError  \\\n",
       "0  ..\\data\\1_interim\\2UWdXP.joke1.rep2.take1.Peek...       NaN   \n",
       "1  ..\\data\\1_interim\\2UWdXP.joke1.rep3.take1.Peek...       NaN   \n",
       "2  ..\\data\\1_interim\\2UWdXP.joke2.rep1.take1.NomN...       NaN   \n",
       "3  ..\\data\\1_interim\\2UWdXP.joke2.rep2.take1.NomN...       NaN   \n",
       "4  ..\\data\\1_interim\\2UWdXP.joke2.rep3.take1.NomN...       NaN   \n",
       "\n",
       "                                         Speech.file          Speech.when  \\\n",
       "0  ..\\data\\1_interim\\2UWdXP.joke1.rep2.take1.Peek...  2023-09-20 16:58:38   \n",
       "1  ..\\data\\1_interim\\2UWdXP.joke1.rep3.take1.Peek...  2023-09-20 16:58:39   \n",
       "2  ..\\data\\1_interim\\2UWdXP.joke2.rep1.take1.NomN...  2023-09-20 16:58:40   \n",
       "3  ..\\data\\1_interim\\2UWdXP.joke2.rep2.take1.NomN...  2023-09-20 16:58:40   \n",
       "4  ..\\data\\1_interim\\2UWdXP.joke2.rep3.take1.NomN...  2023-09-20 16:58:48   \n",
       "\n",
       "  Objects.file Objects.when Understand.file  Understand.when  \n",
       "0          NaN          NaN             NaN              NaN  \n",
       "1          NaN          NaN             NaN              NaN  \n",
       "2          NaN          NaN             NaN              NaN  \n",
       "3          NaN          NaN             NaN              NaN  \n",
       "4          NaN          NaN             NaN              NaN  \n",
       "\n",
       "[5 rows x 26 columns]"
      ]
     },
     "execution_count": 2,
     "metadata": {},
     "output_type": "execute_result"
    }
   ],
   "source": [
    "videos_in = r\"..\\LookitLaughter.test\"\n",
    "data_out = r\"..\\data\\1_interim\"\n",
    "videos_out = r\"..\\data\\2_final\"\n",
    "\n",
    "#a couple of files for testing\n",
    "VIDEO_FILE  = os.path.join(videos_in, \"2UWdXP.joke1.rep2.take1.Peekaboo.mp4\")\n",
    "VIDEO_FILE2 = os.path.join(videos_in, \"2UWdXP.joke2.rep1.take1.NomNomNom.mp4\")\n",
    "AUDIO_FILE = os.path.join(data_out, \"2UWdXP.joke1.rep2.take1.Peekaboo.wav\")\n",
    "SPEECH_FILE = os.path.join(data_out, \"2UWdXP.joke1.rep2.take1.Peekaboo.json\")\n",
    "\n",
    "testset = [VIDEO_FILE, VIDEO_FILE2] \n",
    "\n",
    "processedvideos = utils.getprocessedvideos(data_out)\n",
    "processedvideos.head()"
   ]
  },
  {
   "cell_type": "markdown",
   "metadata": {},
   "source": []
  },
  {
   "cell_type": "code",
   "execution_count": 4,
   "metadata": {},
   "outputs": [],
   "source": [
    "keypoints = utils.readKeyPointsFromCSV(processedvideos,VIDEO_FILE)\n"
   ]
  },
  {
   "cell_type": "code",
   "execution_count": 5,
   "metadata": {},
   "outputs": [],
   "source": [
    "#this bit of pandas magic calculates average x and y for all the rows.\n",
    "\n",
    "keypoints[[\"cogx\",\"cogy\"]] = keypoints.apply(lambda row: calcs.rowcogs(row.iloc[8:59]), axis=1, result_type='expand')"
   ]
  },
  {
   "cell_type": "code",
   "execution_count": 6,
   "metadata": {},
   "outputs": [
    {
     "data": {
      "text/plain": [
       "<matplotlib.legend.Legend at 0x22dd9949790>"
      ]
     },
     "execution_count": 6,
     "metadata": {},
     "output_type": "execute_result"
    },
    {
     "data": {
      "image/png": "[encoded data removed]",
      "text/plain": [
       "<Figure size 640x480 with 1 Axes>"
      ]
     },
     "metadata": {},
     "output_type": "display_data"
    }
   ],
   "source": [
    "child = keypoints[keypoints[\"person\"]==\"child\"]\n",
    "adult = keypoints[keypoints[\"person\"]==\"adult\"]\n",
    "\n",
    "#a plot of child's centre of gravity frame by frame\n",
    "childplot = plt.plot(child[\"frame\"], child[\"cogx\"], c=\"red\", alpha=0.5)\n",
    "## add line of adult's centre of gravity\n",
    "adultplot = plt.plot(adult[\"frame\"], adult[\"cogx\"], c=\"blue\", alpha=0.5)\n",
    "#add legend\n",
    "plt.legend(['child', 'adult'], loc='upper left')"
   ]
  },
  {
   "cell_type": "code",
   "execution_count": 7,
   "metadata": {},
   "outputs": [
    {
     "data": {
      "text/plain": [
       "<matplotlib.legend.Legend at 0x22dd99ca4d0>"
      ]
     },
     "execution_count": 7,
     "metadata": {},
     "output_type": "execute_result"
    },
    {
     "data": {
      "image/png": "[encoded data removed]",
      "text/plain": [
       "<Figure size 640x480 with 1 Axes>"
      ]
     },
     "metadata": {},
     "output_type": "display_data"
    }
   ],
   "source": [
    "#out of curiousity, let's plot the location of the adult and child's nose\n",
    "\n",
    "childnoseplot = plt.plot(child[\"frame\"], child[\"nose.x\"], c=\"red\", alpha=0.5)\n",
    "adultnoseplot = plt.plot(adult[\"frame\"], adult[\"nose.x\"], c=\"blue\", alpha=0.5)\n",
    "plt.legend(['child', 'adult'], loc='upper left')"
   ]
  },
  {
   "cell_type": "code",
   "execution_count": null,
   "metadata": {},
   "outputs": [],
   "source": []
  },
  {
   "cell_type": "markdown",
   "metadata": {},
   "source": []
  },
  {
   "cell_type": "markdown",
   "metadata": {},
   "source": [
    "# 7.2 TODO Use Voxel51 and PytorchVideo for examining videos\n",
    "\n",
    "[fiftyone-examples/examples/pytorchvideo_tutorial.ipynb at master · voxel51/fiftyone-examples (github.com)](https://github.com/voxel51/fiftyone-examples/blob/master/examples/pytorchvideo_tutorial.ipynb)\n"
   ]
  },
  {
   "cell_type": "markdown",
   "metadata": {},
   "source": [
    "# 7.3 Let's normalise all the coordinates\n",
    "\n",
    "Let's convert all coordinates to values between 0 and 1. So divide all x and y coords by frame width and height respectively"
   ]
  },
  {
   "cell_type": "code",
   "execution_count": null,
   "metadata": {},
   "outputs": [],
   "source": [
    "def normaliseCoordinates(df, )"
   ]
  }
 ],
 "metadata": {
  "kernelspec": {
   "display_name": "babyjokes",
   "language": "python",
   "name": "python3"
  },
  "language_info": {
   "codemirror_mode": {
    "name": "ipython",
    "version": 3
   },
   "file_extension": ".py",
   "mimetype": "text/x-python",
   "name": "python",
   "nbconvert_exporter": "python",
   "pygments_lexer": "ipython3",
   "version": "3.11.5"
  },
  "orig_nbformat": 4
 },
 "nbformat": 4,
 "nbformat_minor": 2
}
