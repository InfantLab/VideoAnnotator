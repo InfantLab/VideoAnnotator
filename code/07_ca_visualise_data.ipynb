{
 "cells": [
  {
   "cell_type": "markdown",
   "metadata": {},
   "source": [
    "# 7 Visualise activity in a video.\n",
    "\n",
    "We have extracted all the features we plan to use. Overlaying these on the video was useful.\n",
    "But watching annotated videos is inefficient and not always informative.. \n",
    "\n",
    "To help with understanding we build a few tools that let's see at a glance what happens over time."
   ]
  },
  {
   "cell_type": "markdown",
   "metadata": {},
   "source": [
    "# 7.1  TODO Plot movement over time. \n",
    "\n",
    "Let's find the `centre of gravity` for each person in each frame. This is handy for time series visualisation. For example plotting the cog.x for each person over time shows how they move closer and further from each other. \n",
    "\n"
   ]
  },
  {
   "cell_type": "code",
   "execution_count": null,
   "metadata": {},
   "outputs": [],
   "source": [
    "\n",
    "\n",
    "import calcs\n",
    "\n",
    "xycs = np.array([[1,2,0.9],\n",
    "                 [2,3,0.8],\n",
    "                 [3,4,0.7],\n",
    "                 [4,5,0.6],\n",
    "                 [5,6,0.5],\n",
    "                 [6,7,0.4],\n",
    "                 [7,8,0.3],\n",
    "                 [8,9,0.2],\n",
    "                 [9,10,0.1]])\n",
    "\n",
    "avgx, avgy = calcs.avgxys(xycs, 0)\n",
    "\n",
    "print(avgx, avgy)"
   ]
  },
  {
   "cell_type": "markdown",
   "metadata": {},
   "source": [
    "### Visual Studio Code\n",
    "\n",
    "I like it when `inline-code` stands `out` from the text.\n",
    "\n",
    "```Same for single line default code blocks ```\n",
    "\n",
    "I'm happy enough with bigger code blocks, especially when language is specified.\n",
    "```python\n",
    "def fib(n):\n",
    "    if n <= 1:\n",
    "        return n\n",
    "    else:\n",
    "        return fib(n-1) + fib(n-2)\n",
    "```"
   ]
  },
  {
   "cell_type": "code",
   "execution_count": null,
   "metadata": {},
   "outputs": [],
   "source": [
    "#fibbonacci\n",
    "def fib(n):\n",
    "    if n <= 1:\n",
    "        return n\n",
    "    else:\n",
    "        return fib(n-1) + fib(n-2)"
   ]
  },
  {
   "cell_type": "markdown",
   "metadata": {},
   "source": []
  }
 ],
 "metadata": {
  "language_info": {
   "name": "python"
  },
  "orig_nbformat": 4
 },
 "nbformat": 4,
 "nbformat_minor": 2
}
