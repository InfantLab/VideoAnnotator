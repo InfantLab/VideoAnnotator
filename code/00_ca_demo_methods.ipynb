{
 "cells": [
  {
   "cell_type": "markdown",
   "metadata": {},
   "source": [
    "# 0 Demonstrating the main function calls we use during feature extraction \n",
    "\n",
    "A useful set of simple examples to show how to call the models and parse the data they return."
   ]
  },
  {
   "cell_type": "markdown",
   "metadata": {},
   "source": [
    "## 0.1 Demo data\n",
    "\n",
    "Where will we find videos, images and audio for our examples? Two videos, the associate audio files and a set of images are available in the `data\\demo` directory."
   ]
  },
  {
   "cell_type": "code",
   "execution_count": null,
   "metadata": {},
   "outputs": [],
   "source": [
    "import os\n",
    "\n",
    "demo_data = r\"..\\data\\demo\"\n",
    "\n",
    "#a couple of videos for testing\n",
    "VIDEO_FILE  = os.path.join(demo_data, \"2UWdXP.joke1.rep2.take1.Peekaboo.mp4\")\n",
    "VIDEO_FILE2 = os.path.join(demo_data, \"2UWdXP.joke2.rep1.take1.NomNomNom.mp4\")\n",
    "\n",
    "AUDIO_FILE = os.path.join(demo_data, \"2UWdXP.joke1.rep2.take1.Peekaboo.mp3\")\n",
    "AUDIO_FILE2 = os.path.join(demo_data, \"2UWdXP.joke2.rep1.take1.NomNomNom.mp3\")\n",
    "\n",
    "IMAGE1 = os.path.join(demo_data, \"mother-and-baby.jpg\")\n",
    "IMAGE2 = os.path.join(demo_data, \"peekaboo.png\")\n",
    "IMAGE3 = os.path.join(demo_data, \"twopeople.jpg\")\n",
    "\n",
    "videoset = [VIDEO_FILE, VIDEO_FILE2] \n",
    "audioset = [AUDIO_FILE, AUDIO_FILE2] \n",
    "photoset = [IMAGE1, IMAGE2, IMAGE3]\n"
   ]
  },
  {
   "cell_type": "markdown",
   "metadata": {},
   "source": [
    "## 0.1 YOLOv8\n",
    "\n",
    "Go to [docs.ultralytics.com](https://docs.ultralytics.com/) for detailed documentation and lots of examples. We just demo a few here.\n"
   ]
  },
  {
   "cell_type": "code",
   "execution_count": null,
   "metadata": {},
   "outputs": [],
   "source": [
    "import cv2\n",
    "import torch\n",
    "import numpy as np\n",
    "import pandas as pd\n",
    "import matplotlib.pyplot as plt\n",
    "from ultralytics import YOLO\n",
    "import utils   # local utils.py contains some helper functions\n",
    "import display # local display.py contains display helper functions"
   ]
  },
  {
   "cell_type": "markdown",
   "metadata": {},
   "source": [
    "### 0.1.1 Pose estimation"
   ]
  },
  {
   "cell_type": "code",
   "execution_count": null,
   "metadata": {},
   "outputs": [],
   "source": [
    "#use a yolo model with pose estimation\n",
    "model = YOLO('yolov8n-pose.pt')\n",
    "\n",
    "#the results will contain object detection and pose estimation data.\n",
    "results = model(IMAGE3)\n",
    "print(results)"
   ]
  },
  {
   "cell_type": "code",
   "execution_count": null,
   "metadata": {},
   "outputs": [],
   "source": [
    "#automatically display image overlayed with keypoints, skeleton and bounding boxes\n",
    "labelledimage = results[0].plot()\n",
    "plt.imshow(labelledimage)\n",
    "plt.show()\n",
    "\n",
    "#get the keypoints as a numpy arrays of x,y coordinates each with a confidence score.\n",
    "#note yolo returns tensors so we have to convert to numpy\n",
    "keypoints = results[0].keypoints.cpu().numpy()\n",
    "print(keypoints.xy)\n",
    "print(keypoints.conf)\n",
    "print(keypoints.data)"
   ]
  },
  {
   "cell_type": "code",
   "execution_count": null,
   "metadata": {},
   "outputs": [],
   "source": [
    "#yolo returns keypoints as a 3 x 17 tensor of x,y,confidence, we typically flatten it to a 51 element list to store in dataframes\n",
    "xyc = keypoints.data[0].flatten().tolist()\n",
    "print(xyc)"
   ]
  },
  {
   "cell_type": "markdown",
   "metadata": {},
   "source": [
    "# 0.1.2 YOLOv8 video -> keypoints dataframe\n",
    "\n",
    "If we pass model a video rather than image, the results object must be iterated over to get the results for each frame.\n",
    "\n",
    "We extract movement and save it to dataframe using our own helper functions: \n",
    "\n",
    "* `utils.createkeypointsdf` - initialise an empty keypoints dataframe\n",
    "* `utils.addkeypointstodf` - adds keypoints to dataframe\n",
    "* `utils.videotodf` - extracts keypoints from video and saves to dataframe\n",
    "\n"
   ]
  },
  {
   "cell_type": "code",
   "execution_count": null,
   "metadata": {},
   "outputs": [],
   "source": [
    "results = model(VIDEO_FILE, stream=True)\n",
    "df = utils.createkeypointsdf()\n",
    "frame = 0\n",
    "for r in results:\n",
    "    #print(torch.flatten(r.keypoints.xy[0]).tolist())\n",
    "    df = utils.addkeypointstodf(df,frame,r.boxes.xywh,r.boxes.conf,r.keypoints.data)  \n",
    "    frame += 1\n",
    "\n",
    "print(f\"Video {VIDEO_FILE} has {frame} frames and {len(df)} rows of data\")\n",
    "df.head()"
   ]
  },
  {
   "cell_type": "markdown",
   "metadata": {},
   "source": [
    "Our keypoints dataframe has the following structure\n",
    "\n",
    "![keypoints dataframe](../docs/keypointsdf.png)\n",
    "\n",
    "For each video `frame`, we have one row person `person` and `index`. The next five columns describe the bounding box for that person marked by it's top left `(x1,y1)` and bottom right `(x2,y2)` corners. This is followed 51 columns representing 17 COCO pose points each labelled with `(x,y)` coordinate and a confidence `c` between (0,1)."
   ]
  },
  {
   "cell_type": "code",
   "execution_count": null,
   "metadata": {},
   "outputs": [],
   "source": [
    "df = utils.videotokeypoints(model, VIDEO_FILE, track=False)\n",
    "df.head()"
   ]
  },
  {
   "cell_type": "code",
   "execution_count": null,
   "metadata": {},
   "outputs": [],
   "source": [
    "stemname = os.path.splitext(VIDEO_FILE)[0]\n",
    "csvpath = stemname + \".csv\"\n",
    "df.to_csv(csvpath, index=False)\n",
    "\n",
    "df = pd.read_csv(csvpath, index_col=None)\n",
    "df.head()"
   ]
  },
  {
   "cell_type": "markdown",
   "metadata": {},
   "source": [
    "## Displaying data \n",
    "\n",
    "Two functions help display keypoint and other data overlayed on frame. \n",
    "\n",
    "* `utils.getframekpts` takes keypoints dataframe and framenumber and returns list of all bounding boxes, their labels and corresponding keypoints.\n",
    "* `display.drawOneFrame` takes thes outputs and draws them on the frame."
   ]
  },
  {
   "cell_type": "code",
   "execution_count": null,
   "metadata": {},
   "outputs": [],
   "source": [
    "framenumber = 34\n",
    "bboxlabels, bboxes, xycs = utils.getframekpts(df, framenumber)\n",
    "\n",
    "print(bboxlabels)\n",
    "print(bboxes)\n",
    "print(xycs)\n",
    "\n",
    "video = cv2.VideoCapture(VIDEO_FILE)\n",
    "video.set(cv2.CAP_PROP_POS_FRAMES, framenumber)\n",
    "success, image = video.read()\n",
    "video.release()\n",
    "\n",
    "image = display.drawOneFrame(image, bboxlabels, bboxes, xycs)\n",
    "\n",
    "plt.imshow(image)"
   ]
  },
  {
   "cell_type": "markdown",
   "metadata": {},
   "source": [
    "## 0.1.2 model.track()\n",
    "\n",
    "YoloV8 also comes with a `model.track` method. This aims to keep track of all identified people (and other objects?) over the course of a video. \n",
    "\n",
    "This is pretty easy instead of calling \n",
    "`results = model(video_path, stream=True)`\n",
    "\n",
    "we can call\n",
    "`results = model.track(video_path, stream=True)`\n",
    "\n",
    "https://docs.ultralytics.com/modes/track/#persisting-tracks-loop\n",
    "\n",
    "Here's an inline example of it working.."
   ]
  },
  {
   "cell_type": "code",
   "execution_count": null,
   "metadata": {},
   "outputs": [],
   "source": [
    "# Open the video file\n",
    "video_path = VIDEO_FILE\n",
    "cap = cv2.VideoCapture(video_path)\n",
    "\n",
    "# Loop through the video frames\n",
    "while cap.isOpened():\n",
    "    # Read a frame from the video\n",
    "    success, frame = cap.read()\n",
    "\n",
    "    if success:\n",
    "        # Run YOLOv8 tracking on the frame, persisting tracks between frames\n",
    "        results = model.track(frame, persist=True)\n",
    "\n",
    "        # Visualize the results on the frame\n",
    "        annotated_frame = results[0].plot()\n",
    "\n",
    "        # Display the annotated frame\n",
    "        cv2.imshow(\"YOLOv8 Tracking\", annotated_frame)\n",
    "\n",
    "        # Break the loop if 'q' is pressed\n",
    "        if cv2.waitKey(1) & 0xFF == ord(\"q\"):\n",
    "            break\n",
    "    else:\n",
    "        # Break the loop if the end of the video is reached\n",
    "        break\n",
    "\n",
    "# Release the video capture object and close the display window\n",
    "cap.release()\n",
    "cv2.destroyAllWindows()"
   ]
  },
  {
   "cell_type": "markdown",
   "metadata": {},
   "source": [
    "# 0.2 Extracting Speech\n",
    "\n",
    "We extract the audio and then use off the shelf speech recognition to extract the text.\n",
    "\n",
    "### 0.2.1 Extracting audio with moviepy\n",
    "\n",
    "MoviePy is basic movie editing tool that wraps ffmpeg and allows us to extract audio from video.\n"
   ]
  },
  {
   "cell_type": "code",
   "execution_count": null,
   "metadata": {},
   "outputs": [],
   "source": [
    "import moviepy.editor as mp\n",
    "\n",
    "video_path = VIDEO_FILE\n",
    "output_ext = \"mp3\"\n",
    "output_ext = \"wav\"\n",
    "\n",
    "filename = os.path.splitext(video_path)[0]\n",
    "clip = mp.VideoFileClip( video_path)\n",
    "audio_file = os.path.join( f\"{filename}.{output_ext}\")\n",
    "clip.audio.write_audiofile(audio_file)\n",
    "clip.close()\n"
   ]
  },
  {
   "cell_type": "code",
   "execution_count": null,
   "metadata": {},
   "outputs": [],
   "source": [
    "#playback the audio file\n",
    "from IPython.display import Audio\n",
    "Audio(audio_file)"
   ]
  },
  {
   "cell_type": "markdown",
   "metadata": {},
   "source": [
    "# 0.7 visualising data over time\n",
    "\n",
    "some of the calc\n"
   ]
  },
  {
   "cell_type": "code",
   "execution_count": 1,
   "metadata": {},
   "outputs": [
    {
     "ename": "NameError",
     "evalue": "name 'np' is not defined",
     "output_type": "error",
     "traceback": [
      "\u001b[1;31m---------------------------------------------------------------------------\u001b[0m",
      "\u001b[1;31mNameError\u001b[0m                                 Traceback (most recent call last)",
      "\u001b[1;32mc:\\Users\\cas\\OneDrive\\LegoGPI\\babyjokes\\code\\00_ca_demo_methods.ipynb Cell 23\u001b[0m line \u001b[0;36m2\n\u001b[0;32m      <a href='vscode-notebook-cell:/c%3A/Users/cas/OneDrive/LegoGPI/babyjokes/code/00_ca_demo_methods.ipynb#X30sZmlsZQ%3D%3D?line=0'>1</a>\u001b[0m \u001b[39m#function that calculates the average x and y coordinates of a set of keypoints (where confidence score is above a threshold)\u001b[39;00m\n\u001b[1;32m----> <a href='vscode-notebook-cell:/c%3A/Users/cas/OneDrive/LegoGPI/babyjokes/code/00_ca_demo_methods.ipynb#X30sZmlsZQ%3D%3D?line=1'>2</a>\u001b[0m xycs \u001b[39m=\u001b[39m np\u001b[39m.\u001b[39marray([[\u001b[39m1\u001b[39m,\u001b[39m2\u001b[39m,\u001b[39m0.9\u001b[39m],\n\u001b[0;32m      <a href='vscode-notebook-cell:/c%3A/Users/cas/OneDrive/LegoGPI/babyjokes/code/00_ca_demo_methods.ipynb#X30sZmlsZQ%3D%3D?line=2'>3</a>\u001b[0m                  [\u001b[39m2\u001b[39m,\u001b[39m3\u001b[39m,\u001b[39m0.8\u001b[39m],\n\u001b[0;32m      <a href='vscode-notebook-cell:/c%3A/Users/cas/OneDrive/LegoGPI/babyjokes/code/00_ca_demo_methods.ipynb#X30sZmlsZQ%3D%3D?line=3'>4</a>\u001b[0m                  [\u001b[39m3\u001b[39m,\u001b[39m4\u001b[39m,\u001b[39m0.7\u001b[39m],\n\u001b[0;32m      <a href='vscode-notebook-cell:/c%3A/Users/cas/OneDrive/LegoGPI/babyjokes/code/00_ca_demo_methods.ipynb#X30sZmlsZQ%3D%3D?line=4'>5</a>\u001b[0m                  [\u001b[39m4\u001b[39m,\u001b[39m5\u001b[39m,\u001b[39m0.6\u001b[39m],\n\u001b[0;32m      <a href='vscode-notebook-cell:/c%3A/Users/cas/OneDrive/LegoGPI/babyjokes/code/00_ca_demo_methods.ipynb#X30sZmlsZQ%3D%3D?line=5'>6</a>\u001b[0m                  [\u001b[39m5\u001b[39m,\u001b[39m6\u001b[39m,\u001b[39m0.5\u001b[39m],\n\u001b[0;32m      <a href='vscode-notebook-cell:/c%3A/Users/cas/OneDrive/LegoGPI/babyjokes/code/00_ca_demo_methods.ipynb#X30sZmlsZQ%3D%3D?line=6'>7</a>\u001b[0m                  [\u001b[39m6\u001b[39m,\u001b[39m7\u001b[39m,\u001b[39m0.4\u001b[39m],\n\u001b[0;32m      <a href='vscode-notebook-cell:/c%3A/Users/cas/OneDrive/LegoGPI/babyjokes/code/00_ca_demo_methods.ipynb#X30sZmlsZQ%3D%3D?line=7'>8</a>\u001b[0m                  [\u001b[39m7\u001b[39m,\u001b[39m8\u001b[39m,\u001b[39m0.3\u001b[39m],\n\u001b[0;32m      <a href='vscode-notebook-cell:/c%3A/Users/cas/OneDrive/LegoGPI/babyjokes/code/00_ca_demo_methods.ipynb#X30sZmlsZQ%3D%3D?line=8'>9</a>\u001b[0m                  [\u001b[39m8\u001b[39m,\u001b[39m9\u001b[39m,\u001b[39m0.2\u001b[39m],\n\u001b[0;32m     <a href='vscode-notebook-cell:/c%3A/Users/cas/OneDrive/LegoGPI/babyjokes/code/00_ca_demo_methods.ipynb#X30sZmlsZQ%3D%3D?line=9'>10</a>\u001b[0m                  [\u001b[39m9\u001b[39m,\u001b[39m10\u001b[39m,\u001b[39m0.1\u001b[39m]])\n\u001b[0;32m     <a href='vscode-notebook-cell:/c%3A/Users/cas/OneDrive/LegoGPI/babyjokes/code/00_ca_demo_methods.ipynb#X30sZmlsZQ%3D%3D?line=11'>12</a>\u001b[0m avgx, avgy \u001b[39m=\u001b[39m calcs\u001b[39m.\u001b[39mavgxys(xycs, \u001b[39m0.5\u001b[39m)\n\u001b[0;32m     <a href='vscode-notebook-cell:/c%3A/Users/cas/OneDrive/LegoGPI/babyjokes/code/00_ca_demo_methods.ipynb#X30sZmlsZQ%3D%3D?line=13'>14</a>\u001b[0m \u001b[39mprint\u001b[39m(avgx, avgy)\n",
      "\u001b[1;31mNameError\u001b[0m: name 'np' is not defined"
     ]
    },
    {
     "ename": "",
     "evalue": "",
     "output_type": "error",
     "traceback": [
      "\u001b[1;31mThe Kernel crashed while executing code in the the current cell or a previous cell. Please review the code in the cell(s) to identify a possible cause of the failure. Click <a href='https://aka.ms/vscodeJupyterKernelCrash'>here</a> for more info. View Jupyter <a href='command:jupyter.viewOutput'>log</a> for further details."
     ]
    }
   ],
   "source": [
    "#function that calculates the average x and y coordinates of a set of keypoints (where confidence score is above a threshold)\n",
    "xycs = np.array([[1,2,0.9],\n",
    "                 [2,3,0.8],\n",
    "                 [3,4,0.7],\n",
    "                 [4,5,0.6],\n",
    "                 [5,6,0.5],\n",
    "                 [6,7,0.4],\n",
    "                 [7,8,0.3],\n",
    "                 [8,9,0.2],\n",
    "                 [9,10,0.1]])\n",
    "\n",
    "avgx, avgy = calcs.avgxys(xycs, threshold = 0.5)\n",
    "\n",
    "print(avgx, avgy)"
   ]
  }
 ],
 "metadata": {
  "kernelspec": {
   "display_name": "babyjokes",
   "language": "python",
   "name": "python3"
  },
  "language_info": {
   "codemirror_mode": {
    "name": "ipython",
    "version": 3
   },
   "file_extension": ".py",
   "mimetype": "text/x-python",
   "name": "python",
   "nbconvert_exporter": "python",
   "pygments_lexer": "ipython3",
   "version": "3.11.5"
  },
  "orig_nbformat": 4
 },
 "nbformat": 4,
 "nbformat_minor": 2
}
