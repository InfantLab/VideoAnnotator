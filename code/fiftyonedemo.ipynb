{
 "cells": [
  {
   "cell_type": "code",
   "execution_count": 1,
   "metadata": {},
   "outputs": [],
   "source": [
    "import fiftyone as fo\n",
    "import fiftyone.zoo as foz"
   ]
  },
  {
   "cell_type": "code",
   "execution_count": 2,
   "metadata": {},
   "outputs": [
    {
     "name": "stdout",
     "output_type": "stream",
     "text": [
      "Dataset already downloaded\n",
      "Loading existing dataset 'quickstart-video'. To reload from disk, either delete the existing dataset or provide a custom `dataset_name` to use\n"
     ]
    }
   ],
   "source": [
    "dataset = foz.load_zoo_dataset(\"quickstart-video\")"
   ]
  },
  {
   "cell_type": "code",
   "execution_count": 4,
   "metadata": {},
   "outputs": [
    {
     "name": "stdout",
     "output_type": "stream",
     "text": [
      "Found existing field 'frames.detections' with multiple types ['detections', 'instances']. Only the 'detections' will be annotated\n",
      "Please enter your login credentials.\n",
      "You can avoid this in the future by setting your `FIFTYONE_CVAT_USERNAME` and `FIFTYONE_CVAT_PASSWORD` environment variables\n",
      "Computing metadata...\n",
      " 100% |█████████████████████| 2/2 [963.1ms elapsed, 0s remaining, 2.1 samples/s] \n",
      "Uploading samples to CVAT...\n",
      " 100% |█████████████████████| 2/2 [1.2m elapsed, 0s remaining, 0.0 samples/s]     \n",
      "Launching editor at 'https://app.cvat.ai/tasks/594683/jobs/685363'...\n"
     ]
    },
    {
     "data": {
      "text/plain": [
       "<fiftyone.utils.cvat.CVATAnnotationResults at 0x1d4622b8190>"
      ]
     },
     "execution_count": 4,
     "metadata": {},
     "output_type": "execute_result"
    }
   ],
   "source": [
    "random_view = dataset.take(2, seed=51)\n",
    "anno_key = \"vid_annotations\"\n",
    "random_view.annotate(anno_key, label_field=\"frames.detections\", launch_editor=True)"
   ]
  }
 ],
 "metadata": {
  "kernelspec": {
   "display_name": "yolo",
   "language": "python",
   "name": "python3"
  },
  "language_info": {
   "codemirror_mode": {
    "name": "ipython",
    "version": 3
   },
   "file_extension": ".py",
   "mimetype": "text/x-python",
   "name": "python",
   "nbconvert_exporter": "python",
   "pygments_lexer": "ipython3",
   "version": "3.11.4"
  }
 },
 "nbformat": 4,
 "nbformat_minor": 2
}
