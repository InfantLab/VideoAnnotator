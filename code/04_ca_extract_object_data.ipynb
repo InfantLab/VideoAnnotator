{
 "cells": [
  {
   "cell_type": "markdown",
   "metadata": {},
   "source": [
    "# 4 Extract object data\n",
    "\n",
    "Use SOTA object detection and segmentation models to extract object data from the images. This will help us keep track of parent and child. May also provide other rich data for downstream analysis.\n",
    "\n",
    "\n",
    "Once again, YoloV8 seems like the best place to start. I don't think their default object detection knows about babies. But one nice thing about their models is that you train them further. #TODO - Do that then.\n",
    "\n",
    "This article gives a nice intro https://www.freecodecamp.org/news/how-to-detect-objects-in-images-using-yolov8/ \n",
    "\n",
    "\n",
    "e might look at DETR as well . An example found here https://medium.com/@faheemrustamy/detection-transformer-detr-vs-yolo-for-object-detection-baeb3c50bc3 as he provides some nice code here https://github.com/RustamyF/detr-vision/tree/main \n",
    "\n",
    "\n"
   ]
  },
  {
   "cell_type": "code",
   "execution_count": null,
   "metadata": {},
   "outputs": [],
   "source": [
    "import os\n",
    "import math\n",
    "import sys\n",
    "import time\n",
    "import pandas as pd\n",
    "import numpy as np\n",
    "import cv2\n",
    "import torch\n",
    "from ultralytics import YOLO\n",
    "import utils\n"
   ]
  },
  {
   "cell_type": "code",
   "execution_count": null,
   "metadata": {},
   "outputs": [],
   "source": [
    "videos_in = r\"..\\LookitLaughter.test\"\n",
    "data_out = r\"..\\data\\1_interim\"\n",
    "\n",
    "processedvideos = utils.getprocessedvideos(data_out)\n",
    "processedvideos.head()"
   ]
  },
  {
   "cell_type": "code",
   "execution_count": null,
   "metadata": {},
   "outputs": [],
   "source": [
    "#get yolo model with pose estimation\n",
    "model = YOLO('yolov8n-pose.pt')"
   ]
  }
 ],
 "metadata": {
  "language_info": {
   "name": "python"
  },
  "orig_nbformat": 4
 },
 "nbformat": 4,
 "nbformat_minor": 2
}
