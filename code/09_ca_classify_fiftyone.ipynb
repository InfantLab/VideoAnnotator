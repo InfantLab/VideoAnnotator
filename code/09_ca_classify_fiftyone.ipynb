{
 "cells": [
  {
   "cell_type": "markdown",
   "metadata": {},
   "source": [
    "# 09 Classify videos by joke type and visualise with FiftyOne\n",
    "\n",
    "Each video demonstrates a single joke type. We have this as meta-data. Can we train a classifier based on the movement data?\n",
    "\n",
    "Each video shows one joke from a set of five possibilities [Peekaboo,TearingPaper,NomNomNom,ThatsNotAHat,ThatsNotACat].\n",
    "\n",
    "We will use TensorFlow to train a classifier to predict the joke type from the movement data.\n",
    "In order to see what classifier is doing, we will use [FiftyOne]() to visualise the data and predictions"
   ]
  },
  {
   "cell_type": "code",
   "execution_count": 1,
   "metadata": {},
   "outputs": [
    {
     "name": "stdout",
     "output_type": "stream",
     "text": [
      "WARNING:tensorflow:From c:\\Users\\caspar\\Anaconda3\\envs\\babyjokes\\Lib\\site-packages\\keras\\src\\losses.py:2976: The name tf.losses.sparse_softmax_cross_entropy is deprecated. Please use tf.compat.v1.losses.sparse_softmax_cross_entropy instead.\n",
      "\n"
     ]
    }
   ],
   "source": [
    "import os\n",
    "import fiftyone as fo\n",
    "import pandas as pd\n",
    "import numpy as np\n",
    "\n",
    "# Make numpy values easier to read.\n",
    "np.set_printoptions(precision=4, suppress=True)\n",
    "\n",
    "import tensorflow as tf\n",
    "from tensorflow.keras import layers\n",
    "\n",
    "# local imports\n",
    "import utils\n",
    "import display\n",
    "import calcs"
   ]
  },
  {
   "cell_type": "markdown",
   "metadata": {},
   "source": [
    "## 9.1 Load the data\n",
    "\n",
    "### Use either small demo \n",
    "Consists of 54 videos. From 4 families (parent and baby) demoing five jokes three times each. (Some missing)"
   ]
  },
  {
   "cell_type": "code",
   "execution_count": 2,
   "metadata": {},
   "outputs": [],
   "source": [
    "videos_in = os.path.join(\"..\",\"LookitLaughter.test\")\n",
    "demo_data = os.path.join(\"..\",\"data\", \"demo\")\n",
    "temp_out = os.path.join(\"..\",\"data\",\"0_temp\")\n",
    "data_out = os.path.join(\"..\",\"data\",\"1_interim\")\n",
    "videos_out = os.path.join(\"..\",\"data\",\"2_final\")"
   ]
  },
  {
   "cell_type": "markdown",
   "metadata": {},
   "source": [
    "### Or the Full set\n",
    "\n",
    "Consists of 1425 videos. From 90 familes (parent and baby) demoing approximately five jokes three times each. Some repetitions and omissions."
   ]
  },
  {
   "cell_type": "code",
   "execution_count": 3,
   "metadata": {},
   "outputs": [],
   "source": [
    "videos_in = os.path.join(\"..\",\"..\",\"LookitLaughter.full.videos\")\n",
    "temp_out = os.path.join(\"..\",\"..\",\"LookitLaughter.full.data\",\"0_temp\")\n",
    "data_out = os.path.join(\"..\",\"..\",\"LookitLaughter.full.data\",\"1_interim\")\n",
    "videos_out = os.path.join(\"..\",\"..\",\"LookitLaughter.full.data\",\"2_final\")\n"
   ]
  },
  {
   "cell_type": "code",
   "execution_count": 4,
   "metadata": {},
   "outputs": [
    {
     "name": "stdout",
     "output_type": "stream",
     "text": [
      "Found existing processedvideos.xlsx with 1412 rows.\n",
      "We have 1412 processed videos.\n",
      "Min Frames: 3\n",
      "Max Frames: 2696\n"
     ]
    },
    {
     "data": {
      "text/html": [
       "<div>\n",
       "<style scoped>\n",
       "    .dataframe tbody tr th:only-of-type {\n",
       "        vertical-align: middle;\n",
       "    }\n",
       "\n",
       "    .dataframe tbody tr th {\n",
       "        vertical-align: top;\n",
       "    }\n",
       "\n",
       "    .dataframe thead th {\n",
       "        text-align: right;\n",
       "    }\n",
       "</style>\n",
       "<table border=\"1\" class=\"dataframe\">\n",
       "  <thead>\n",
       "    <tr style=\"text-align: right;\">\n",
       "      <th></th>\n",
       "      <th>VideoID</th>\n",
       "      <th>ChildID</th>\n",
       "      <th>JokeType</th>\n",
       "      <th>Joke.Label</th>\n",
       "      <th>JokeNum</th>\n",
       "      <th>JokeRep</th>\n",
       "      <th>JokeTake</th>\n",
       "      <th>HowFunny</th>\n",
       "      <th>HowFunny.Value</th>\n",
       "      <th>LaughYesNo</th>\n",
       "      <th>...</th>\n",
       "      <th>Audio.when</th>\n",
       "      <th>Audio.file</th>\n",
       "      <th>Faces.when</th>\n",
       "      <th>Faces.file</th>\n",
       "      <th>Speech.when</th>\n",
       "      <th>Speech.file</th>\n",
       "      <th>LastError</th>\n",
       "      <th>annotatedVideo</th>\n",
       "      <th>annotated.when</th>\n",
       "      <th>Keypoints.normed</th>\n",
       "    </tr>\n",
       "  </thead>\n",
       "  <tbody>\n",
       "    <tr>\n",
       "      <th>0</th>\n",
       "      <td>NFCK3A.joke1.rep1.take1.ThatsNotAHat.mp4</td>\n",
       "      <td>NFCK3A</td>\n",
       "      <td>ThatsNotAHat</td>\n",
       "      <td>5</td>\n",
       "      <td>1</td>\n",
       "      <td>1</td>\n",
       "      <td>1</td>\n",
       "      <td>Slightly funny</td>\n",
       "      <td>2</td>\n",
       "      <td>No</td>\n",
       "      <td>...</td>\n",
       "      <td>2024-02-16 19:04:52</td>\n",
       "      <td>..\\..\\LookitLaughter.full.data\\1_interim\\NFCK3...</td>\n",
       "      <td>NaN</td>\n",
       "      <td>NaN</td>\n",
       "      <td>2024-02-16 19:28:34</td>\n",
       "      <td>..\\..\\LookitLaughter.full.data\\1_interimNFCK3A...</td>\n",
       "      <td>NaN</td>\n",
       "      <td>NaN</td>\n",
       "      <td>NaN</td>\n",
       "      <td>..\\..\\LookitLaughter.full.data\\1_interim\\NFCK3...</td>\n",
       "    </tr>\n",
       "    <tr>\n",
       "      <th>1</th>\n",
       "      <td>NFCK3A.joke1.rep1.take2.ThatsNotAHat.mp4</td>\n",
       "      <td>NFCK3A</td>\n",
       "      <td>ThatsNotAHat</td>\n",
       "      <td>5</td>\n",
       "      <td>1</td>\n",
       "      <td>1</td>\n",
       "      <td>2</td>\n",
       "      <td>Slightly funny</td>\n",
       "      <td>2</td>\n",
       "      <td>No</td>\n",
       "      <td>...</td>\n",
       "      <td>2024-02-16 19:04:52</td>\n",
       "      <td>..\\..\\LookitLaughter.full.data\\1_interim\\NFCK3...</td>\n",
       "      <td>NaN</td>\n",
       "      <td>NaN</td>\n",
       "      <td>2024-02-16 19:28:35</td>\n",
       "      <td>..\\..\\LookitLaughter.full.data\\1_interimNFCK3A...</td>\n",
       "      <td>NaN</td>\n",
       "      <td>NaN</td>\n",
       "      <td>NaN</td>\n",
       "      <td>..\\..\\LookitLaughter.full.data\\1_interim\\NFCK3...</td>\n",
       "    </tr>\n",
       "    <tr>\n",
       "      <th>2</th>\n",
       "      <td>NFCK3A.joke1.rep2.take1.ThatsNotAHat.mp4</td>\n",
       "      <td>NFCK3A</td>\n",
       "      <td>ThatsNotAHat</td>\n",
       "      <td>5</td>\n",
       "      <td>1</td>\n",
       "      <td>2</td>\n",
       "      <td>1</td>\n",
       "      <td>Not funny</td>\n",
       "      <td>1</td>\n",
       "      <td>No</td>\n",
       "      <td>...</td>\n",
       "      <td>2024-02-16 19:04:53</td>\n",
       "      <td>..\\..\\LookitLaughter.full.data\\1_interim\\NFCK3...</td>\n",
       "      <td>NaN</td>\n",
       "      <td>NaN</td>\n",
       "      <td>2024-02-16 19:28:36</td>\n",
       "      <td>..\\..\\LookitLaughter.full.data\\1_interimNFCK3A...</td>\n",
       "      <td>NaN</td>\n",
       "      <td>NaN</td>\n",
       "      <td>NaN</td>\n",
       "      <td>..\\..\\LookitLaughter.full.data\\1_interim\\NFCK3...</td>\n",
       "    </tr>\n",
       "    <tr>\n",
       "      <th>3</th>\n",
       "      <td>NFCK3A.joke1.rep3.take1.ThatsNotAHat.mp4</td>\n",
       "      <td>NFCK3A</td>\n",
       "      <td>ThatsNotAHat</td>\n",
       "      <td>5</td>\n",
       "      <td>1</td>\n",
       "      <td>3</td>\n",
       "      <td>1</td>\n",
       "      <td>Not funny</td>\n",
       "      <td>1</td>\n",
       "      <td>No</td>\n",
       "      <td>...</td>\n",
       "      <td>2024-02-16 19:04:53</td>\n",
       "      <td>..\\..\\LookitLaughter.full.data\\1_interim\\NFCK3...</td>\n",
       "      <td>NaN</td>\n",
       "      <td>NaN</td>\n",
       "      <td>2024-02-16 19:28:36</td>\n",
       "      <td>..\\..\\LookitLaughter.full.data\\1_interimNFCK3A...</td>\n",
       "      <td>NaN</td>\n",
       "      <td>NaN</td>\n",
       "      <td>NaN</td>\n",
       "      <td>..\\..\\LookitLaughter.full.data\\1_interim\\NFCK3...</td>\n",
       "    </tr>\n",
       "    <tr>\n",
       "      <th>4</th>\n",
       "      <td>NFCK3A.joke2.rep1.take1.TearingPaper.mp4</td>\n",
       "      <td>NFCK3A</td>\n",
       "      <td>TearingPaper</td>\n",
       "      <td>3</td>\n",
       "      <td>2</td>\n",
       "      <td>1</td>\n",
       "      <td>1</td>\n",
       "      <td>Not funny</td>\n",
       "      <td>1</td>\n",
       "      <td>No</td>\n",
       "      <td>...</td>\n",
       "      <td>2024-02-16 19:04:53</td>\n",
       "      <td>..\\..\\LookitLaughter.full.data\\1_interim\\NFCK3...</td>\n",
       "      <td>NaN</td>\n",
       "      <td>NaN</td>\n",
       "      <td>2024-02-16 19:28:37</td>\n",
       "      <td>..\\..\\LookitLaughter.full.data\\1_interimNFCK3A...</td>\n",
       "      <td>NaN</td>\n",
       "      <td>NaN</td>\n",
       "      <td>NaN</td>\n",
       "      <td>..\\..\\LookitLaughter.full.data\\1_interim\\NFCK3...</td>\n",
       "    </tr>\n",
       "  </tbody>\n",
       "</table>\n",
       "<p>5 rows × 27 columns</p>\n",
       "</div>"
      ],
      "text/plain": [
       "                                    VideoID ChildID      JokeType  Joke.Label  \\\n",
       "0  NFCK3A.joke1.rep1.take1.ThatsNotAHat.mp4  NFCK3A  ThatsNotAHat           5   \n",
       "1  NFCK3A.joke1.rep1.take2.ThatsNotAHat.mp4  NFCK3A  ThatsNotAHat           5   \n",
       "2  NFCK3A.joke1.rep2.take1.ThatsNotAHat.mp4  NFCK3A  ThatsNotAHat           5   \n",
       "3  NFCK3A.joke1.rep3.take1.ThatsNotAHat.mp4  NFCK3A  ThatsNotAHat           5   \n",
       "4  NFCK3A.joke2.rep1.take1.TearingPaper.mp4  NFCK3A  TearingPaper           3   \n",
       "\n",
       "   JokeNum  JokeRep  JokeTake        HowFunny HowFunny.Value LaughYesNo  ...  \\\n",
       "0        1        1         1  Slightly funny              2         No  ...   \n",
       "1        1        1         2  Slightly funny              2         No  ...   \n",
       "2        1        2         1       Not funny              1         No  ...   \n",
       "3        1        3         1       Not funny              1         No  ...   \n",
       "4        2        1         1       Not funny              1         No  ...   \n",
       "\n",
       "            Audio.when                                         Audio.file  \\\n",
       "0  2024-02-16 19:04:52  ..\\..\\LookitLaughter.full.data\\1_interim\\NFCK3...   \n",
       "1  2024-02-16 19:04:52  ..\\..\\LookitLaughter.full.data\\1_interim\\NFCK3...   \n",
       "2  2024-02-16 19:04:53  ..\\..\\LookitLaughter.full.data\\1_interim\\NFCK3...   \n",
       "3  2024-02-16 19:04:53  ..\\..\\LookitLaughter.full.data\\1_interim\\NFCK3...   \n",
       "4  2024-02-16 19:04:53  ..\\..\\LookitLaughter.full.data\\1_interim\\NFCK3...   \n",
       "\n",
       "   Faces.when  Faces.file          Speech.when  \\\n",
       "0         NaN         NaN  2024-02-16 19:28:34   \n",
       "1         NaN         NaN  2024-02-16 19:28:35   \n",
       "2         NaN         NaN  2024-02-16 19:28:36   \n",
       "3         NaN         NaN  2024-02-16 19:28:36   \n",
       "4         NaN         NaN  2024-02-16 19:28:37   \n",
       "\n",
       "                                         Speech.file LastError annotatedVideo  \\\n",
       "0  ..\\..\\LookitLaughter.full.data\\1_interimNFCK3A...       NaN            NaN   \n",
       "1  ..\\..\\LookitLaughter.full.data\\1_interimNFCK3A...       NaN            NaN   \n",
       "2  ..\\..\\LookitLaughter.full.data\\1_interimNFCK3A...       NaN            NaN   \n",
       "3  ..\\..\\LookitLaughter.full.data\\1_interimNFCK3A...       NaN            NaN   \n",
       "4  ..\\..\\LookitLaughter.full.data\\1_interimNFCK3A...       NaN            NaN   \n",
       "\n",
       "  annotated.when                                   Keypoints.normed  \n",
       "0            NaN  ..\\..\\LookitLaughter.full.data\\1_interim\\NFCK3...  \n",
       "1            NaN  ..\\..\\LookitLaughter.full.data\\1_interim\\NFCK3...  \n",
       "2            NaN  ..\\..\\LookitLaughter.full.data\\1_interim\\NFCK3...  \n",
       "3            NaN  ..\\..\\LookitLaughter.full.data\\1_interim\\NFCK3...  \n",
       "4            NaN  ..\\..\\LookitLaughter.full.data\\1_interim\\NFCK3...  \n",
       "\n",
       "[5 rows x 27 columns]"
      ]
     },
     "execution_count": 4,
     "metadata": {},
     "output_type": "execute_result"
    }
   ],
   "source": [
    "processedVideos = utils.getProcessedVideos(data_out)\n",
    "minFrames = processedVideos['Frames'].min()\n",
    "maxFrames = processedVideos['Frames'].max()\n",
    "print(f\"We have {len(processedVideos)} processed videos.\")\n",
    "print(f\"Min Frames: {minFrames}\\nMax Frames: {maxFrames}\")\n",
    "processedVideos.head()"
   ]
  },
  {
   "cell_type": "code",
   "execution_count": 5,
   "metadata": {},
   "outputs": [
    {
     "data": {
      "text/plain": [
       "(array([         17,         123,         219,         287,         264,         170,         109,          59,          52,          33,          23,          16,           9,          10,           4,           3,           3,           3,           1,           0,           0,           1,           1,           0,\n",
       "                  0,           0,           0,           1,           0,           1,           0,           0,           0,           0,           0,           0,           0,           0,           0,           3]),\n",
       " array([          3,      70.325,      137.65,      204.98,       272.3,      339.62,      406.95,      474.28,       541.6,      608.93,      676.25,      743.58,       810.9,      878.23,      945.55,      1012.9,      1080.2,      1147.5,      1214.9,      1282.2,      1349.5,      1416.8,      1484.2,      1551.5,\n",
       "             1618.8,      1686.1,      1753.5,      1820.8,      1888.1,      1955.4,      2022.8,      2090.1,      2157.4,      2224.7,      2292.1,      2359.4,      2426.7,        2494,      2561.3,      2628.7,        2696]),\n",
       " <BarContainer object of 40 artists>)"
      ]
     },
     "execution_count": 5,
     "metadata": {},
     "output_type": "execute_result"
    },
    {
     "data": {
      "image/png": "[encoded data removed]",
      "text/plain": [
       "<Figure size 640x480 with 1 Axes>"
      ]
     },
     "metadata": {},
     "output_type": "display_data"
    }
   ],
   "source": [
    "# use matplotlib to draw histograam of number of frames\n",
    "\n",
    "import matplotlib.pyplot as plt\n",
    "\n",
    "plt.hist(processedVideos['Frames'], bins=40)"
   ]
  },
  {
   "cell_type": "markdown",
   "metadata": {},
   "source": [
    "# 9.2 Use Voxel51 and PytorchVideo for examining videos\n",
    "\n",
    "Voxel51 seems to be a useful tool for looking at training data (and trained predictions).\n",
    "\n",
    "Let's start with the minimal implementation. Just viewing videos.\n",
    "\n",
    "https://docs.voxel51.com/user_guide/dataset_creation/index.html\n",
    "\n"
   ]
  },
  {
   "cell_type": "markdown",
   "metadata": {},
   "source": [
    "### 9.2.1 Is dataset already created?\n",
    "\n",
    "FiftyOne may aleady have a dataset created. Let's check. And reload it. "
   ]
  },
  {
   "cell_type": "code",
   "execution_count": 6,
   "metadata": {},
   "outputs": [
    {
     "name": "stdout",
     "output_type": "stream",
     "text": [
      "Loading saved datasets:  2024.06.29.18.16.36\n"
     ]
    }
   ],
   "source": [
    "datasets = fo.list_datasets()\n",
    "if len(datasets) == 0:\n",
    "    print(\"No datasets found. Load in step 7.1.2\")\n",
    "else:\n",
    "    print(\"Loading saved datasets: \", datasets[0])\n",
    "    dataset = fo.load_dataset(datasets[0])"
   ]
  },
  {
   "cell_type": "markdown",
   "metadata": {},
   "source": [
    "### 7.1.2 Populate a FiftyOne dataset with our videos and labels.\n",
    "\n",
    "Either there is no existing dataset or we want to rebuild it."
   ]
  },
  {
   "cell_type": "code",
   "execution_count": 7,
   "metadata": {},
   "outputs": [],
   "source": [
    "# optional: delete datasets\n",
    "fo.delete_datasets(\"*\")"
   ]
  },
  {
   "cell_type": "code",
   "execution_count": 8,
   "metadata": {},
   "outputs": [
    {
     "name": "stdout",
     "output_type": "stream",
     "text": [
      " 100% |███████████████| 1425/1425 [168.0ms elapsed, 0s remaining, 8.5K samples/s]     \n",
      "Computing metadata...\n",
      " 100% |███████████████| 1425/1425 [58.1s elapsed, 0s remaining, 25.6 samples/s]      \n"
     ]
    }
   ],
   "source": [
    "# Create a dataset from a directory of videos\n",
    "dataset = fo.Dataset.from_videos_dir(videos_in)\n",
    "dataset.ensure_frames()\n",
    "\n",
    "dataset.name = 'LookitLaughter.full'\n",
    "\n",
    "dataset.add_sample_field(\"JokeType\", fo.StringField, description=\"What joke is being told?\")\n",
    "dataset.add_sample_field(\"HowFunny\", fo.StringField, description=\"How funny is the joke?\")\n",
    "dataset.add_sample_field(\"LaughYesNo\",  fo.BooleanField, description=\"Did the child laugh?\")"
   ]
  },
  {
   "cell_type": "markdown",
   "metadata": {},
   "source": [
    "Now let's see if we can add our metadata classifications. Recalling that each video demos one joke type `[Peekaboo,TearingPaper,NomNomNom,ThatsNotAHat,ThatsNotACat]` and has rating of how funny the baby found it `[Not Funny, Slightly Funny, Funny, Extremely Funny]` and whether they laughed `[Yes, No]`.\n"
   ]
  },
  {
   "cell_type": "code",
   "execution_count": 9,
   "metadata": {},
   "outputs": [
    {
     "name": "stdout",
     "output_type": "stream",
     "text": [
      "Video cJ3K55.joke1.rep1.take1.TearingPaper.mp4 not found in processed videos.\n",
      "Video cJ3K55.joke1.rep2.take1.TearingPaper.mp4 not found in processed videos.\n",
      "Video cJ3K55.joke1.rep3.take1.TearingPaper.mp4 not found in processed videos.\n",
      "Video cJ3K55.joke2.rep1.take1.NomNomNom.mp4 not found in processed videos.\n",
      "Video cJ3K55.joke2.rep2.take1.NomNomNom.mp4 not found in processed videos.\n",
      "Video cJ3K55.joke2.rep3.take1.NomNomNom.mp4 not found in processed videos.\n",
      "Video cJ3K55.joke3.rep2.take1.Peekaboo.mp4 not found in processed videos.\n",
      "Video cJ3K55.joke3.rep3.take1.Peekaboo.mp4 not found in processed videos.\n",
      "Video cJ3K55.joke4.rep2.take1.ThatsNotACat.mp4 not found in processed videos.\n",
      "Video cJ3K55.joke4.rep3.take1.ThatsNotACat.mp4 not found in processed videos.\n",
      "Video cJ3K55.joke5.rep1.take1.ThatsNotAHat.mp4 not found in processed videos.\n",
      "Video cJ3K55.joke5.rep2.take1.ThatsNotAHat.mp4 not found in processed videos.\n",
      "Video cJ3K55.joke5.rep3.take1.ThatsNotAHat.mp4 not found in processed videos.\n"
     ]
    }
   ],
   "source": [
    "# add the joke type, how funny and laugh yes/no for each sample in the dataset\n",
    "for sample in dataset:\n",
    "    #split the filepath to get the video name, system independent\n",
    "    videoname = os.path.basename(sample.filepath)\n",
    "    row = processedVideos[processedVideos[\"VideoID\"]==videoname]\n",
    "    if len(row) == 0:\n",
    "        print(f\"Video {videoname} not found in processed videos.\")\n",
    "        continue\n",
    "    sample[\"VideoID\"]  = row[\"VideoID\"].values[0]\n",
    "    sample[\"JokeType\"]  = row[\"JokeType\"].values[0]\n",
    "    sample[\"HowFunny\"]  = row[\"HowFunny\"].values[0]\n",
    "    sample[\"LaughYesNo\"]  = (row[\"LaughYesNo\"].values[0] == \"Yes\")\n",
    "#    sample[\"JokeType\"]  = fo.Classification(label = row[\"JokeType\"].values[0])\n",
    "#    sample[\"HowFunny\"]  = fo.Classification(label = row[\"HowFunny\"].values[0])\n",
    "#    sample[\"LaughYesNo\"]  = fo.Classification(label = (row[\"LaughYesNo\"].values[0] == \"Yes\"))\n",
    "    \n",
    "    sample.save()"
   ]
  },
  {
   "cell_type": "markdown",
   "metadata": {},
   "source": [
    "Let's add the frame by frame annotations directly onto the videos inside fiftyone"
   ]
  },
  {
   "cell_type": "code",
   "execution_count": 10,
   "metadata": {},
   "outputs": [
    {
     "name": "stdout",
     "output_type": "stream",
     "text": [
      "Error reading keypoints for C:\\Users\\caspar\\OneDrive\\LegoGPI\\LookitLaughter.full.videos\\cJ3K55.joke1.rep1.take1.TearingPaper.mp4\n",
      "Error reading keypoints for C:\\Users\\caspar\\OneDrive\\LegoGPI\\LookitLaughter.full.videos\\cJ3K55.joke1.rep2.take1.TearingPaper.mp4\n",
      "Error reading keypoints for C:\\Users\\caspar\\OneDrive\\LegoGPI\\LookitLaughter.full.videos\\cJ3K55.joke1.rep3.take1.TearingPaper.mp4\n",
      "Error reading keypoints for C:\\Users\\caspar\\OneDrive\\LegoGPI\\LookitLaughter.full.videos\\cJ3K55.joke2.rep1.take1.NomNomNom.mp4\n",
      "Error reading keypoints for C:\\Users\\caspar\\OneDrive\\LegoGPI\\LookitLaughter.full.videos\\cJ3K55.joke2.rep2.take1.NomNomNom.mp4\n",
      "Error reading keypoints for C:\\Users\\caspar\\OneDrive\\LegoGPI\\LookitLaughter.full.videos\\cJ3K55.joke2.rep3.take1.NomNomNom.mp4\n",
      "Error reading keypoints for C:\\Users\\caspar\\OneDrive\\LegoGPI\\LookitLaughter.full.videos\\cJ3K55.joke3.rep2.take1.Peekaboo.mp4\n",
      "Error reading keypoints for C:\\Users\\caspar\\OneDrive\\LegoGPI\\LookitLaughter.full.videos\\cJ3K55.joke3.rep3.take1.Peekaboo.mp4\n",
      "Error reading keypoints for C:\\Users\\caspar\\OneDrive\\LegoGPI\\LookitLaughter.full.videos\\cJ3K55.joke4.rep2.take1.ThatsNotACat.mp4\n",
      "Error reading keypoints for C:\\Users\\caspar\\OneDrive\\LegoGPI\\LookitLaughter.full.videos\\cJ3K55.joke4.rep3.take1.ThatsNotACat.mp4\n",
      "Error reading keypoints for C:\\Users\\caspar\\OneDrive\\LegoGPI\\LookitLaughter.full.videos\\cJ3K55.joke5.rep1.take1.ThatsNotAHat.mp4\n",
      "Error reading keypoints for C:\\Users\\caspar\\OneDrive\\LegoGPI\\LookitLaughter.full.videos\\cJ3K55.joke5.rep2.take1.ThatsNotAHat.mp4\n",
      "Error reading keypoints for C:\\Users\\caspar\\OneDrive\\LegoGPI\\LookitLaughter.full.videos\\cJ3K55.joke5.rep3.take1.ThatsNotAHat.mp4\n"
     ]
    }
   ],
   "source": [
    "#Let's start with people bounding boxes\n",
    "\n",
    "for sample in dataset:\n",
    "    #retrieve people bounding boxes from the keypoints file\n",
    "    try:\n",
    "        keypoints = utils.readKeyPointsFromCSV(processedVideos,sample.filepath,normed= True)    \n",
    "    except FileNotFoundError as e:\n",
    "        print(f\"Error reading keypoints for {sample.filepath}\")\n",
    "        continue\n",
    "    \n",
    "    for index, row in keypoints.iterrows():\n",
    "        framenumber = row[\"frame\"] + 1\n",
    "        person = row[\"person\"]\n",
    "        bbox = [row[\"bbox.x1\"], row[\"bbox.y1\"], row[\"bbox.x2\"], row[\"bbox.y2\"]]\n",
    "        bbox51 = calcs.xyxy2ltwh(bbox)\n",
    "        if sample.frames[framenumber]:\n",
    "            frame = sample.frames[framenumber]\n",
    "        else:\n",
    "            frame = fo.Frame()\n",
    "        frame[person] = fo.Detection(label=person, bounding_box=bbox51)\n",
    "        sample.frames[framenumber] = frame\n",
    "        #TODO fiftyone add keypoints not well documented and i can't get it to work. \n",
    "        #frame[person + \"KeyPoints\"] =  \n",
    "        #fo.KeypointSkeleton()\n",
    "        #TODO can't see how to add timesynced captions either!\n",
    "\n",
    "        sample.save()\n",
    "        \n",
    "dataset.save()"
   ]
  },
  {
   "cell_type": "code",
   "execution_count": 11,
   "metadata": {},
   "outputs": [
    {
     "data": {
      "text/html": [
       "\n",
       "        <iframe\n",
       "            width=\"100%\"\n",
       "            height=\"800\"\n",
       "            src=\"http://localhost:5151/?notebook=True&subscription=df43a239-323f-4be0-b639-8ba371c6f48d\"\n",
       "            frameborder=\"0\"\n",
       "            allowfullscreen\n",
       "            \n",
       "        ></iframe>\n",
       "        "
      ],
      "text/plain": [
       "<IPython.lib.display.IFrame at 0x21a9b678890>"
      ]
     },
     "metadata": {},
     "output_type": "display_data"
    }
   ],
   "source": [
    "session = fo.launch_app(dataset)\n",
    "# in docker launch fiftiy needs port\n",
    "# session = fo.launch_app(dataset, address=\"0.0.0.0\", port=5151)"
   ]
  },
  {
   "cell_type": "markdown",
   "metadata": {},
   "source": [
    "## 9.3 Load and preprocess the data\n",
    "\n",
    "1. Load normed movement data. \n",
    "2. Exclude videos shorter than a min length\n",
    "3. Pad all sequences to the same max length. \n",
    "4. Interpolate missing values (up to last frame of real data).\n",
    "5. Replace final missing values with zeros.\n",
    "6. Add to tf.data.Dataset."
   ]
  },
  {
   "cell_type": "code",
   "execution_count": null,
   "metadata": {},
   "outputs": [],
   "source": [
    "def createMovementDataset(processedVideos, minFrames = 0, maxFrames = None, ragged = False):\n",
    "    \"\"\"\n",
    "    Creates a movement dataset from processed videos.\n",
    "\n",
    "    Args:\n",
    "        processedVideos (pandas.DataFrame): A DataFrame containing processed video data.\n",
    "        minFrames (int, optional): Rows with less than minframes are excluded. Defaults to 0 (include all frames.)\n",
    "        maxFrames (int, optional): Data padded or truncated to have maxFrames. Defaults to max of all videos.\n",
    "        ragged (bool, optional): Whether to create a ragged tensor. Defaults to False (TODO: not implemented yet)\n",
    "\n",
    "    Returns:\n",
    "        tf.data.Dataset: A TensorFlow Dataset containing features and labels.\n",
    "    \"\"\"\n",
    "    if maxFrames is None:\n",
    "        maxFrames = processedVideos[\"Frames\"].max()\n",
    "    if ragged:\n",
    "        raise NotImplementedError(\"Ragged tensors not implemented yet.\")    \n",
    "    dataset = []\n",
    "    labels = []\n",
    "    # for each row of processedVideos, we add one timeseries to the dataset\n",
    "    for index, r in processedVideos.iterrows():\n",
    "        df = pd.read_csv(r['Keypoints.normed'])\n",
    "        if r[\"Frames\"] < minFrames:\n",
    "            continue\n",
    "        df = utils.padMovementData(df, maxFrames)\n",
    "        df = utils.interpolateMovementData(df)\n",
    "        df = df.replace(np.nan, 0)\n",
    "        df = utils.flattenMovementDataset(df)\n",
    "        \n",
    "        features = tf.convert_to_tensor(df.values, dtype=tf.float32)\n",
    "        label = r[\"Joke.Label\"]\n",
    "        dataset.append(features)\n",
    "        labels.append(label)\n",
    "    \n",
    "    return tf.data.Dataset.from_tensor_slices((dataset, labels))"
   ]
  },
  {
   "cell_type": "code",
   "execution_count": null,
   "metadata": {},
   "outputs": [],
   "source": [
    "trainMinFrames = 100\n",
    "trainMaxFrames = 1000   \n",
    "tfdataset = createMovementDataset(processedVideos,trainMinFrames,trainMaxFrames)\n",
    "\n",
    "train, test = tf.keras.utils.split_dataset(tfdataset, left_size=0.8)"
   ]
  },
  {
   "cell_type": "code",
   "execution_count": null,
   "metadata": {},
   "outputs": [],
   "source": [
    "#get first element of dataset so we can grab its dimensions\n",
    "keyPoints = next(iter(train))[0]\n",
    "\n",
    "#let's build a simple model\n",
    "model = tf.keras.Sequential([\n",
    "    layers.Input(shape=(keyPoints.shape[0], keyPoints.shape[1])),\n",
    "    layers.LSTM(8),\n",
    "    layers.Dense(1)\n",
    "])\n",
    "\n",
    "# Compile the model\n",
    "model.compile(loss=tf.losses.MeanSquaredError(),\n",
    "              sample_weight_mode='temporal',\n",
    "              optimizer=tf.optimizers.Adam(),\n",
    "              metrics=[tf.metrics.MeanAbsoluteError()])\n",
    "\n",
    "# Train the model\n",
    "model.fit(train.batch(32), epochs=20)\n"
   ]
  },
  {
   "cell_type": "code",
   "execution_count": null,
   "metadata": {},
   "outputs": [],
   "source": [
    "#let's evaluate the model\n",
    "model.evaluate(test.batch(32))\n",
    "\n",
    "#table of predictions\n",
    "predictions = model.predict(test.batch(32))"
   ]
  },
  {
   "cell_type": "code",
   "execution_count": null,
   "metadata": {},
   "outputs": [],
   "source": [
    "predictions"
   ]
  },
  {
   "cell_type": "code",
   "execution_count": null,
   "metadata": {},
   "outputs": [],
   "source": [
    "labels"
   ]
  }
 ],
 "metadata": {
  "kernelspec": {
   "display_name": "venv",
   "language": "python",
   "name": "python3"
  },
  "language_info": {
   "codemirror_mode": {
    "name": "ipython",
    "version": 3
   },
   "file_extension": ".py",
   "mimetype": "text/x-python",
   "name": "python",
   "nbconvert_exporter": "python",
   "pygments_lexer": "ipython3",
   "version": "3.11.5"
  }
 },
 "nbformat": 4,
 "nbformat_minor": 2
}
