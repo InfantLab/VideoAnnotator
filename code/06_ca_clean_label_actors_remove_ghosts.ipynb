{
 "cells": [
  {
   "cell_type": "markdown",
   "metadata": {},
   "source": [
    "# 6 Visualise labelled data and remove artefacts\n",
    "\n",
    "Code that let us overlay each frame of video with outputs from the models. And create time series plots. "
   ]
  },
  {
   "cell_type": "code",
   "execution_count": null,
   "metadata": {},
   "outputs": [],
   "source": [
    "import os\n",
    "import cv2\n",
    "import matplotlib.pyplot as plt \n",
    "import numpy as np\n",
    "import pandas as pd\n",
    "import ultralytics.utils as ultrautils\n",
    "import utils\n",
    "import display\n",
    "import json"
   ]
  },
  {
   "cell_type": "code",
   "execution_count": null,
   "metadata": {},
   "outputs": [],
   "source": [
    "videos_in = r\"..\\LookitLaughter.test\"\n",
    "metadata_file = \"_LookitLaughter.xlsx\"\n",
    "data_out = r\"..\\data\\1_interim\"\n",
    "videos_out = r\"..\\data\\2_final\"\n",
    "\n",
    "#a couple of files for testing\n",
    "VIDEO_FILE  = os.path.join(videos_in, \"2UWdXP.joke1.rep2.take1.Peekaboo.mp4\")\n",
    "VIDEO_FILE2 = os.path.join(videos_in, \"2UWdXP.joke2.rep1.take1.NomNomNom.mp4\")\n",
    "AUDIO_FILE = os.path.join(data_out, \"2UWdXP.joke1.rep2.take1.Peekaboo.wav\")\n",
    "SPEECH_FILE = os.path.join(data_out, \"2UWdXP.joke1.rep2.take1.Peekaboo.json\")\n",
    "\n",
    "testset = [VIDEO_FILE, VIDEO_FILE2] "
   ]
  },
  {
   "cell_type": "code",
   "execution_count": null,
   "metadata": {},
   "outputs": [],
   "source": [
    "processedvideos = utils.getprocessedvideos(data_out)\n",
    "processedvideos.head()"
   ]
  },
  {
   "cell_type": "markdown",
   "metadata": {},
   "source": [
    "## 6.1 Add annotations onto a video.\n",
    "\n"
   ]
  },
  {
   "cell_type": "code",
   "execution_count": null,
   "metadata": {},
   "outputs": [],
   "source": [
    "#let's grab a single frame from the video\n",
    "\n",
    "framenum = 100\n",
    "video = cv2.VideoCapture(VIDEO_FILE)\n",
    "video.set(cv2.CAP_PROP_POS_FRAMES, framenum)\n",
    "ret, frame = video.read()\n",
    "\n",
    "if ret:\n",
    "    plt.imshow(frame)\n",
    "    plt.show()\n",
    "\n",
    "#look in processed videos to see if we have a keypoints file for this video\n",
    "videoname = os.path.basename(VIDEO_FILE)\n",
    "videodata = processedvideos[processedvideos['VideoID'] == videoname]\n",
    "if videodata.shape[0] > 0:\n",
    "    print(\"We have a keypoints file for this video\")\n",
    "    kptsfile = videodata['Keypoints.file'].values[0]\n",
    "    #Load the keypoints file\n",
    "    kpts = pd.read_csv(kptsfile)\n",
    "    kpts.head()\n",
    "\n",
    "video.release()"
   ]
  },
  {
   "cell_type": "code",
   "execution_count": null,
   "metadata": {},
   "outputs": [],
   "source": [
    "print(f\"kptsfile: {kptsfile}\")\n",
    "\n",
    "kpts.iloc[3]"
   ]
  },
  {
   "cell_type": "code",
   "execution_count": null,
   "metadata": {},
   "outputs": [],
   "source": [
    "\n",
    "\n",
    "bboxlabels, bboxes, xycs = utils.getframekpts(kpts, 100)\n",
    "print(bboxlabels)\n",
    "print(bboxes)\n",
    "print(xycs)"
   ]
  },
  {
   "cell_type": "code",
   "execution_count": null,
   "metadata": {},
   "outputs": [],
   "source": [
    "h, w = frame.shape[:2]\n",
    "print(h,w)    \n",
    "\n",
    "frame = display.drawOneFrame(frame, bboxlabels, bboxes, xycs,\"Peek-a-boo\")\n",
    "\n",
    "plt.imshow(frame)\n",
    "plt.show()\n"
   ]
  },
  {
   "cell_type": "code",
   "execution_count": null,
   "metadata": {},
   "outputs": [],
   "source": [
    "with open(SPEECH_FILE) as f:\n",
    "    speechjson = json.load(f)\n",
    "caption = display.WhisperExtractCurrentCaption(speechjson, 100, 15)\n",
    "print(caption)"
   ]
  },
  {
   "cell_type": "code",
   "execution_count": null,
   "metadata": {},
   "outputs": [],
   "source": [
    "width = 640\n",
    "height = 480\n",
    "capbox = [[int(width /2), int(0.9*height), int(width/2), int(0.9*height)]]\n",
    "\n",
    "print(capbox[0][3])"
   ]
  },
  {
   "cell_type": "code",
   "execution_count": null,
   "metadata": {},
   "outputs": [],
   "source": [
    "#look in processed videos to see if we have a keypoints file for this video\n",
    "videoname = os.path.basename(VIDEO_FILE)\n",
    "videodata = processedvideos[processedvideos['VideoID'] == videoname]\n",
    "if videodata.shape[0] > 0:\n",
    "    kptsfile = videodata['Keypoints.file'].values[0]\n",
    "    if os.path.exists(kptsfile):\n",
    "        print(f\"Keypoints found: {kptsfile}\")\n",
    "        kpts = pd.read_csv(kptsfile, index_col=None)\n",
    "    facesfile = videodata['Faces.file'].values[0]\n",
    "    if os.path.exists(facesfile):\n",
    "        print(f\"Face data found: {facesfile}\")\n",
    "        facedata = pd.read_csv(facesfile, index_col=None)\n",
    "    speechfile = videodata['Speech.file'].values[0]\n",
    "    if os.path.exists(speechfile):\n",
    "        print(f\"Speech data found: {speechfile}\")\n",
    "        #open speech json file\n",
    "        with open(speechfile) as f:\n",
    "            speechdata = json.load(f)\n"
   ]
  },
  {
   "cell_type": "markdown",
   "metadata": {},
   "source": [
    "In this demo, the extract movement algorithm has mislabelled the adult and the child (the labels get applied at random). We need to swap the labels around."
   ]
  },
  {
   "cell_type": "code",
   "execution_count": null,
   "metadata": {},
   "outputs": [],
   "source": [
    "kpts = utils.relabelPersonIndex(kpts, person = \"child\", index = 0, newPerson = \"temp\", newIndex = 100)\n",
    "kpts = utils.relabelPersonIndex(kpts, person = \"adult\", index = 1, newPerson = \"child\", newIndex = 0)\n",
    "kpts = utils.relabelPersonIndex(kpts, person = \"temp\", index = 100,newPerson = \"adult\",  newIndex = 1)   "
   ]
  },
  {
   "cell_type": "code",
   "execution_count": null,
   "metadata": {},
   "outputs": [],
   "source": [
    "\n",
    "annotatedVideo = display.createAnnotatedVideo(VIDEO_FILE, kpts, facedata, speechdata, videos_out)"
   ]
  },
  {
   "cell_type": "code",
   "execution_count": null,
   "metadata": {},
   "outputs": [],
   "source": []
  },
  {
   "cell_type": "code",
   "execution_count": null,
   "metadata": {},
   "outputs": [],
   "source": [
    "#Add the audio file back onto the annotated video\n",
    "annotatedVideo = r\"..\\data\\2_final\\2UWdXP.joke1.rep2.take1.Peekaboo_annotated.mp4\"\n",
    "\n",
    "from moviepy.editor import *\n",
    "videoclip = VideoFileClip(annotatedVideo)\n",
    "audioclip = AudioFileClip(AUDIO_FILE)\n",
    "\n",
    "videoclip = videoclip.set_audio(audioclip)\n",
    "#note need to save with a different name as the original video is still open\n",
    "videoclip.write_videofile(r\"..\\data\\2_final\\2UWdXP.joke1.rep2.take1.Peekaboo_annotated_audio.mp4\")"
   ]
  },
  {
   "cell_type": "code",
   "execution_count": null,
   "metadata": {},
   "outputs": [],
   "source": [
    "videoclip.ipython_display()\n"
   ]
  },
  {
   "cell_type": "markdown",
   "metadata": {},
   "source": [
    "## 6.2 TODO Add annotations to all vidoes.\n",
    "\n",
    "Generate annotated videos for all videos in the test set."
   ]
  },
  {
   "cell_type": "code",
   "execution_count": null,
   "metadata": {},
   "outputs": [],
   "source": [
    "\n",
    "\n",
    "kpts.head()"
   ]
  },
  {
   "cell_type": "code",
   "execution_count": null,
   "metadata": {},
   "outputs": [],
   "source": []
  },
  {
   "cell_type": "markdown",
   "metadata": {},
   "source": [
    "# 6.3 TODO Correct person labels in all videos.\n",
    "\n",
    "Swap parent and child if these are wrong. Ignore other people in video."
   ]
  },
  {
   "cell_type": "code",
   "execution_count": null,
   "metadata": {},
   "outputs": [],
   "source": []
  }
 ],
 "metadata": {
  "kernelspec": {
   "display_name": "babyjokes",
   "language": "python",
   "name": "python3"
  },
  "language_info": {
   "codemirror_mode": {
    "name": "ipython",
    "version": 3
   },
   "file_extension": ".py",
   "mimetype": "text/x-python",
   "name": "python",
   "nbconvert_exporter": "python",
   "pygments_lexer": "ipython3",
   "version": "3.11.5"
  },
  "orig_nbformat": 4
 },
 "nbformat": 4,
 "nbformat_minor": 2
}
