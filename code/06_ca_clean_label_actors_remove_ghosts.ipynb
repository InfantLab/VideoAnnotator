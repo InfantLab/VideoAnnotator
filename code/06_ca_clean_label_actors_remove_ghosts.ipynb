{
 "cells": [
  {
   "cell_type": "markdown",
   "metadata": {},
   "source": [
    "# 6 Visualise labelled data and remove artefacts\n",
    "\n",
    "Code that let us overlay each frame of video with outputs from the models. And create time series plots. "
   ]
  },
  {
   "cell_type": "code",
   "execution_count": null,
   "metadata": {},
   "outputs": [],
   "source": [
    "import os\n",
    "import cv2\n",
    "import matplotlib.pyplot as plt \n",
    "import numpy as np\n",
    "import pandas as pd\n",
    "import ultralytics.utils as ultrautils\n",
    "import utils\n",
    "import display\n",
    "import json"
   ]
  },
  {
   "cell_type": "code",
   "execution_count": null,
   "metadata": {},
   "outputs": [],
   "source": [
    "videos_in = r\"..\\LookitLaughter.test\"\n",
    "metadata_file = \"_LookitLaughter.xlsx\"\n",
    "data_out = r\"..\\data\\1_interim\"\n",
    "videos_out = r\"..\\data\\2_final\"\n",
    "\n",
    "#a couple of files for testing\n",
    "VIDEO_FILE  = os.path.join(videos_in, \"2UWdXP.joke1.rep2.take1.Peekaboo.mp4\")\n",
    "VIDEO_FILE2 = os.path.join(videos_in, \"2UWdXP.joke2.rep1.take1.NomNomNom.mp4\")\n",
    "AUDIO_FILE = os.path.join(data_out, \"2UWdXP.joke1.rep2.take1.Peekaboo.wav\")\n",
    "AUDIO_FILE2 = os.path.join(data_out, \"2UWdXP.joke2.rep1.take1.NomNomNom.wav\")\n",
    "SPEECH_FILE = os.path.join(data_out, \"2UWdXP.joke1.rep2.take1.Peekaboo.json\")\n",
    "SPEECH_FILE2 = os.path.join(data_out, \"2UWdXP.joke2.rep1.take1.NomNomNom.json\")\n",
    "\n",
    "testset = [VIDEO_FILE, VIDEO_FILE2] "
   ]
  },
  {
   "cell_type": "code",
   "execution_count": null,
   "metadata": {},
   "outputs": [],
   "source": [
    "processedvideos = utils.getprocessedvideos(data_out)\n",
    "processedvideos.head()"
   ]
  },
  {
   "cell_type": "markdown",
   "metadata": {},
   "source": [
    "## 6.1 Add annotations onto a video.\n",
    "\n"
   ]
  },
  {
   "cell_type": "code",
   "execution_count": null,
   "metadata": {},
   "outputs": [],
   "source": [
    "#let's grab a single frame from the video\n",
    "\n",
    "framenum = 60\n",
    "video = cv2.VideoCapture(VIDEO_FILE)\n",
    "video.set(cv2.CAP_PROP_POS_FRAMES, framenum)\n",
    "ret, frame = video.read()\n",
    "video.release()\n",
    "\n",
    "if ret:\n",
    "    plt.imshow(frame)\n",
    "    plt.show()\n",
    "\n",
    "\n",
    "\n",
    "videoname = os.path.basename(VIDEO_FILE)\n",
    "\n",
    "kpts = utils.getKeyPoints(processedvideos,videoname)\n",
    "kpts.head()\n"
   ]
  },
  {
   "cell_type": "code",
   "execution_count": null,
   "metadata": {},
   "outputs": [],
   "source": [
    "#let's grab a single frame from the video\n",
    "bboxlabels, bboxes, xycs = utils.getframekpts(kpts, framenum)\n",
    "print(bboxlabels)\n",
    "print(bboxes)\n",
    "print(xycs)"
   ]
  },
  {
   "cell_type": "code",
   "execution_count": null,
   "metadata": {},
   "outputs": [],
   "source": [
    "h, w = frame.shape[:2]\n",
    "print(h,w)    \n",
    "\n",
    "frame = display.drawOneFrame(frame, bboxlabels, bboxes, xycs,\"Peek-a-boo\")\n",
    "\n",
    "plt.imshow(frame)\n",
    "plt.show()\n"
   ]
  },
  {
   "cell_type": "code",
   "execution_count": null,
   "metadata": {},
   "outputs": [],
   "source": [
    "#check captions for this video at \n",
    "with open(SPEECH_FILE) as f:\n",
    "    speechjson = json.load(f)\n",
    "caption = display.WhisperExtractCurrentCaption(speechjson, framenum, 15)\n",
    "print(caption)"
   ]
  },
  {
   "cell_type": "markdown",
   "metadata": {},
   "source": []
  },
  {
   "cell_type": "code",
   "execution_count": null,
   "metadata": {},
   "outputs": [],
   "source": [
    "\n",
    "\n",
    "#let's get all the annotations for this video\n",
    "kpts = utils.getKeyPoints(processedvideos,videoname)\n",
    "facedata = utils.getFaceData(processedvideos,videoname)\n",
    "speechdata = utils.getSpeechData(processedvideos,videoname)\n"
   ]
  },
  {
   "cell_type": "markdown",
   "metadata": {},
   "source": [
    "In this demo, the extract movement algorithm has mislabelled the adult and the child (the labels get applied at random). We need to swap the labels around."
   ]
  },
  {
   "cell_type": "code",
   "execution_count": null,
   "metadata": {},
   "outputs": [],
   "source": [
    "kpts = utils.relabelPersonIndex(kpts, person = \"child\", index = 0, newPerson = \"temp\", newIndex = 100)\n",
    "kpts = utils.relabelPersonIndex(kpts, person = \"adult\", index = 1, newPerson = \"child\", newIndex = 0)\n",
    "kpts = utils.relabelPersonIndex(kpts, person = \"temp\", index = 100,newPerson = \"adult\",  newIndex = 1)   "
   ]
  },
  {
   "cell_type": "code",
   "execution_count": null,
   "metadata": {},
   "outputs": [],
   "source": [
    "\n",
    "annotatedVideo = display.createAnnotatedVideo(VIDEO_FILE, kpts, facedata, speechdata, videos_out, True)"
   ]
  },
  {
   "cell_type": "code",
   "execution_count": null,
   "metadata": {},
   "outputs": [],
   "source": [
    "#Add the audio file back onto the annotated video\n",
    "#annotatedVideo = r\"..\\data\\2_final\\2UWdXP.joke1.rep2.take1.Peekaboo_annotated.mp4\"\n",
    "\n",
    "from moviepy.editor import *\n",
    "videoclip = VideoFileClip(annotatedVideo)\n",
    "audioclip = AudioFileClip(AUDIO_FILE)\n",
    "\n",
    "videoclip = videoclip.set_audio(audioclip)\n"
   ]
  },
  {
   "cell_type": "code",
   "execution_count": null,
   "metadata": {},
   "outputs": [],
   "source": [
    "audioclip.ipython_display()"
   ]
  },
  {
   "cell_type": "code",
   "execution_count": null,
   "metadata": {},
   "outputs": [],
   "source": [
    "videoclip.ipython_display()\n"
   ]
  },
  {
   "cell_type": "code",
   "execution_count": null,
   "metadata": {},
   "outputs": [],
   "source": [
    "#note need to save with a different name as the original video is still open\n",
    "videoclip.write_videofile(r\"..\\data\\2_final\\2UWdXP.joke1.rep2.take1.Peekaboo_annotated_audio.mp4\")"
   ]
  },
  {
   "cell_type": "markdown",
   "metadata": {},
   "source": [
    "## 6.2 TODO Add annotations to all vidoes.\n",
    "\n",
    "Generate annotated videos for all videos in the test set."
   ]
  },
  {
   "cell_type": "code",
   "execution_count": null,
   "metadata": {},
   "outputs": [],
   "source": [
    "\n",
    "for index, r in processedvideos.iterrows():\n",
    "\n",
    "    videoname = os.path.basename(r[\"VideoID\"])\n",
    "    try: \n",
    "        #let's get all the annotations for this video\n",
    "        kpts = utils.getKeyPoints(processedvideos,videoname)\n",
    "        facedata = utils.getFaceData(processedvideos,videoname)\n",
    "        speechdata = utils.getSpeechData(processedvideos,videoname)\n",
    "    except FileNotFoundError:\n",
    "        print(f\"Data error for {videoname}\\n\" + )\n",
    "        continue\n",
    "    \n",
    "\n",
    "        print(f\"Already processed {r['VideoID']}\")\n",
    "utils.saveprocessedvideos(processedvideos, data_out)"
   ]
  },
  {
   "cell_type": "markdown",
   "metadata": {},
   "source": [
    "# 6.3 TODO Correct person labels in all videos.\n",
    "\n",
    "Swap parent and child if these are wrong. Ignore other people in video."
   ]
  },
  {
   "cell_type": "code",
   "execution_count": null,
   "metadata": {},
   "outputs": [],
   "source": []
  }
 ],
 "metadata": {
  "kernelspec": {
   "display_name": "babyjokes",
   "language": "python",
   "name": "python3"
  },
  "language_info": {
   "codemirror_mode": {
    "name": "ipython",
    "version": 3
   },
   "file_extension": ".py",
   "mimetype": "text/x-python",
   "name": "python",
   "nbconvert_exporter": "python",
   "pygments_lexer": "ipython3",
   "version": "3.11.5"
  },
  "orig_nbformat": 4
 },
 "nbformat": 4,
 "nbformat_minor": 2
}
